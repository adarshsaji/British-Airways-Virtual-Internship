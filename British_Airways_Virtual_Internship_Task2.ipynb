{
 "cells": [
  {
   "cell_type": "markdown",
   "metadata": {},
   "source": [
    "# Task 2\n",
    "\n",
    "---\n",
    "\n",
    "## Predictive modeling of customer bookings\n",
    "\n",
    "\n",
    "### Exploratory data analysis\n",
    "\n",
    "First, we must explore the data in order to better understand what we have and the statistical properties of the dataset."
   ]
  },
  {
   "cell_type": "code",
   "execution_count": 1,
   "metadata": {},
   "outputs": [
    {
     "name": "stderr",
     "output_type": "stream",
     "text": [
      "<frozen importlib._bootstrap>:228: RuntimeWarning: scipy._lib.messagestream.MessageStream size changed, may indicate binary incompatibility. Expected 56 from C header, got 64 from PyObject\n"
     ]
    }
   ],
   "source": [
    "import pandas as pd\n",
    "import matplotlib.pyplot as plt\n",
    "import numpy as np\n",
    "import seaborn as sns\n",
    "from sklearn.preprocessing import LabelEncoder\n",
    "from sklearn.feature_selection import mutual_info_classif\n",
    "from sklearn.model_selection import train_test_split\n",
    "from sklearn.linear_model import LinearRegression\n",
    "from sklearn.preprocessing import StandardScaler\n",
    "from imblearn.combine import SMOTETomek\n",
    "from imblearn.under_sampling import RandomUnderSampler\n",
    "from imblearn.pipeline import Pipeline\n",
    "from category_encoders import TargetEncoder\n",
    "from sklearn.ensemble import RandomForestClassifier, AdaBoostClassifier\n",
    "from xgboost import XGBClassifier\n",
    "from sklearn.metrics import classification_report\n",
    "from imblearn.pipeline import Pipeline as ImbalancedPipeline\n",
    "from sklearn.preprocessing import FunctionTransformer\n",
    "import warnings\n",
    "warnings.filterwarnings(\"ignore\")"
   ]
  },
  {
   "cell_type": "code",
   "execution_count": 42,
   "metadata": {},
   "outputs": [
    {
     "data": {
      "text/html": [
       "<div>\n",
       "<style scoped>\n",
       "    .dataframe tbody tr th:only-of-type {\n",
       "        vertical-align: middle;\n",
       "    }\n",
       "\n",
       "    .dataframe tbody tr th {\n",
       "        vertical-align: top;\n",
       "    }\n",
       "\n",
       "    .dataframe thead th {\n",
       "        text-align: right;\n",
       "    }\n",
       "</style>\n",
       "<table border=\"1\" class=\"dataframe\">\n",
       "  <thead>\n",
       "    <tr style=\"text-align: right;\">\n",
       "      <th></th>\n",
       "      <th>num_passengers</th>\n",
       "      <th>sales_channel</th>\n",
       "      <th>trip_type</th>\n",
       "      <th>purchase_lead</th>\n",
       "      <th>length_of_stay</th>\n",
       "      <th>flight_hour</th>\n",
       "      <th>flight_day</th>\n",
       "      <th>route</th>\n",
       "      <th>booking_origin</th>\n",
       "      <th>wants_extra_baggage</th>\n",
       "      <th>wants_preferred_seat</th>\n",
       "      <th>wants_in_flight_meals</th>\n",
       "      <th>flight_duration</th>\n",
       "      <th>booking_complete</th>\n",
       "    </tr>\n",
       "  </thead>\n",
       "  <tbody>\n",
       "    <tr>\n",
       "      <th>0</th>\n",
       "      <td>2</td>\n",
       "      <td>Internet</td>\n",
       "      <td>RoundTrip</td>\n",
       "      <td>262</td>\n",
       "      <td>19</td>\n",
       "      <td>7</td>\n",
       "      <td>Sat</td>\n",
       "      <td>AKLDEL</td>\n",
       "      <td>New Zealand</td>\n",
       "      <td>1</td>\n",
       "      <td>0</td>\n",
       "      <td>0</td>\n",
       "      <td>5.52</td>\n",
       "      <td>0</td>\n",
       "    </tr>\n",
       "    <tr>\n",
       "      <th>1</th>\n",
       "      <td>1</td>\n",
       "      <td>Internet</td>\n",
       "      <td>RoundTrip</td>\n",
       "      <td>112</td>\n",
       "      <td>20</td>\n",
       "      <td>3</td>\n",
       "      <td>Sat</td>\n",
       "      <td>AKLDEL</td>\n",
       "      <td>New Zealand</td>\n",
       "      <td>0</td>\n",
       "      <td>0</td>\n",
       "      <td>0</td>\n",
       "      <td>5.52</td>\n",
       "      <td>0</td>\n",
       "    </tr>\n",
       "    <tr>\n",
       "      <th>2</th>\n",
       "      <td>2</td>\n",
       "      <td>Internet</td>\n",
       "      <td>RoundTrip</td>\n",
       "      <td>243</td>\n",
       "      <td>22</td>\n",
       "      <td>17</td>\n",
       "      <td>Wed</td>\n",
       "      <td>AKLDEL</td>\n",
       "      <td>India</td>\n",
       "      <td>1</td>\n",
       "      <td>1</td>\n",
       "      <td>0</td>\n",
       "      <td>5.52</td>\n",
       "      <td>0</td>\n",
       "    </tr>\n",
       "    <tr>\n",
       "      <th>3</th>\n",
       "      <td>1</td>\n",
       "      <td>Internet</td>\n",
       "      <td>RoundTrip</td>\n",
       "      <td>96</td>\n",
       "      <td>31</td>\n",
       "      <td>4</td>\n",
       "      <td>Sat</td>\n",
       "      <td>AKLDEL</td>\n",
       "      <td>New Zealand</td>\n",
       "      <td>0</td>\n",
       "      <td>0</td>\n",
       "      <td>1</td>\n",
       "      <td>5.52</td>\n",
       "      <td>0</td>\n",
       "    </tr>\n",
       "    <tr>\n",
       "      <th>4</th>\n",
       "      <td>2</td>\n",
       "      <td>Internet</td>\n",
       "      <td>RoundTrip</td>\n",
       "      <td>68</td>\n",
       "      <td>22</td>\n",
       "      <td>15</td>\n",
       "      <td>Wed</td>\n",
       "      <td>AKLDEL</td>\n",
       "      <td>India</td>\n",
       "      <td>1</td>\n",
       "      <td>0</td>\n",
       "      <td>1</td>\n",
       "      <td>5.52</td>\n",
       "      <td>0</td>\n",
       "    </tr>\n",
       "  </tbody>\n",
       "</table>\n",
       "</div>"
      ],
      "text/plain": [
       "   num_passengers sales_channel  trip_type  purchase_lead  length_of_stay  \\\n",
       "0               2      Internet  RoundTrip            262              19   \n",
       "1               1      Internet  RoundTrip            112              20   \n",
       "2               2      Internet  RoundTrip            243              22   \n",
       "3               1      Internet  RoundTrip             96              31   \n",
       "4               2      Internet  RoundTrip             68              22   \n",
       "\n",
       "   flight_hour flight_day   route booking_origin  wants_extra_baggage  \\\n",
       "0            7        Sat  AKLDEL    New Zealand                    1   \n",
       "1            3        Sat  AKLDEL    New Zealand                    0   \n",
       "2           17        Wed  AKLDEL          India                    1   \n",
       "3            4        Sat  AKLDEL    New Zealand                    0   \n",
       "4           15        Wed  AKLDEL          India                    1   \n",
       "\n",
       "   wants_preferred_seat  wants_in_flight_meals  flight_duration  \\\n",
       "0                     0                      0             5.52   \n",
       "1                     0                      0             5.52   \n",
       "2                     1                      0             5.52   \n",
       "3                     0                      1             5.52   \n",
       "4                     0                      1             5.52   \n",
       "\n",
       "   booking_complete  \n",
       "0                 0  \n",
       "1                 0  \n",
       "2                 0  \n",
       "3                 0  \n",
       "4                 0  "
      ]
     },
     "execution_count": 42,
     "metadata": {},
     "output_type": "execute_result"
    }
   ],
   "source": [
    "df = pd.read_csv(\"data/customer_booking.csv\", encoding=\"ISO-8859-1\")\n",
    "df.head()"
   ]
  },
  {
   "cell_type": "markdown",
   "metadata": {},
   "source": [
    "The `.head()` method allows us to view the first 5 rows in the dataset, this is useful for visual inspection of our columns"
   ]
  },
  {
   "cell_type": "code",
   "execution_count": 43,
   "metadata": {},
   "outputs": [
    {
     "name": "stdout",
     "output_type": "stream",
     "text": [
      "<class 'pandas.core.frame.DataFrame'>\n",
      "RangeIndex: 50000 entries, 0 to 49999\n",
      "Data columns (total 14 columns):\n",
      " #   Column                 Non-Null Count  Dtype  \n",
      "---  ------                 --------------  -----  \n",
      " 0   num_passengers         50000 non-null  int64  \n",
      " 1   sales_channel          50000 non-null  object \n",
      " 2   trip_type              50000 non-null  object \n",
      " 3   purchase_lead          50000 non-null  int64  \n",
      " 4   length_of_stay         50000 non-null  int64  \n",
      " 5   flight_hour            50000 non-null  int64  \n",
      " 6   flight_day             50000 non-null  object \n",
      " 7   route                  50000 non-null  object \n",
      " 8   booking_origin         50000 non-null  object \n",
      " 9   wants_extra_baggage    50000 non-null  int64  \n",
      " 10  wants_preferred_seat   50000 non-null  int64  \n",
      " 11  wants_in_flight_meals  50000 non-null  int64  \n",
      " 12  flight_duration        50000 non-null  float64\n",
      " 13  booking_complete       50000 non-null  int64  \n",
      "dtypes: float64(1), int64(8), object(5)\n",
      "memory usage: 5.3+ MB\n"
     ]
    }
   ],
   "source": [
    "df.info()"
   ]
  },
  {
   "cell_type": "markdown",
   "metadata": {},
   "source": [
    "The `.info()` method gives us a data description, telling us the names of the columns, their data types and how many null values we have. Fortunately, we have no null values. It looks like some of these columns should be converted into different data types, e.g. flight_day.\n",
    "\n",
    "To provide more context, below is a more detailed data description, explaining exactly what each column means:\n",
    "\n",
    "- `num_passengers` = number of passengers travelling\n",
    "- `sales_channel` = sales channel booking was made on\n",
    "- `trip_type` = trip Type (Round Trip, One Way, Circle Trip)\n",
    "- `purchase_lead` = number of days between travel date and booking date\n",
    "- `length_of_stay` = number of days spent at destination\n",
    "- `flight_hour` = hour of flight departure\n",
    "- `flight_day` = day of week of flight departure\n",
    "- `route` = origin -> destination flight route\n",
    "- `booking_origin` = country from where booking was made\n",
    "- `wants_extra_baggage` = if the customer wanted extra baggage in the booking\n",
    "- `wants_preferred_seat` = if the customer wanted a preferred seat in the booking\n",
    "- `wants_in_flight_meals` = if the customer wanted in-flight meals in the booking\n",
    "- `flight_duration` = total duration of flight (in hours)\n",
    "- `booking_complete` = flag indicating if the customer completed the booking\n"
   ]
  },
  {
   "cell_type": "code",
   "execution_count": 75,
   "metadata": {},
   "outputs": [
    {
     "data": {
      "text/html": [
       "<div>\n",
       "<style scoped>\n",
       "    .dataframe tbody tr th:only-of-type {\n",
       "        vertical-align: middle;\n",
       "    }\n",
       "\n",
       "    .dataframe tbody tr th {\n",
       "        vertical-align: top;\n",
       "    }\n",
       "\n",
       "    .dataframe thead th {\n",
       "        text-align: right;\n",
       "    }\n",
       "</style>\n",
       "<table border=\"1\" class=\"dataframe\">\n",
       "  <thead>\n",
       "    <tr style=\"text-align: right;\">\n",
       "      <th></th>\n",
       "      <th>num_passengers</th>\n",
       "      <th>purchase_lead</th>\n",
       "      <th>length_of_stay</th>\n",
       "      <th>flight_hour</th>\n",
       "      <th>wants_extra_baggage</th>\n",
       "      <th>wants_preferred_seat</th>\n",
       "      <th>wants_in_flight_meals</th>\n",
       "      <th>flight_duration</th>\n",
       "      <th>booking_complete</th>\n",
       "    </tr>\n",
       "  </thead>\n",
       "  <tbody>\n",
       "    <tr>\n",
       "      <th>count</th>\n",
       "      <td>50000.000000</td>\n",
       "      <td>50000.000000</td>\n",
       "      <td>50000.00000</td>\n",
       "      <td>50000.00000</td>\n",
       "      <td>50000.000000</td>\n",
       "      <td>50000.000000</td>\n",
       "      <td>50000.000000</td>\n",
       "      <td>50000.000000</td>\n",
       "      <td>50000.000000</td>\n",
       "    </tr>\n",
       "    <tr>\n",
       "      <th>mean</th>\n",
       "      <td>1.591240</td>\n",
       "      <td>84.940480</td>\n",
       "      <td>23.04456</td>\n",
       "      <td>9.06634</td>\n",
       "      <td>0.668780</td>\n",
       "      <td>0.296960</td>\n",
       "      <td>0.427140</td>\n",
       "      <td>7.277561</td>\n",
       "      <td>0.149560</td>\n",
       "    </tr>\n",
       "    <tr>\n",
       "      <th>std</th>\n",
       "      <td>1.020165</td>\n",
       "      <td>90.451378</td>\n",
       "      <td>33.88767</td>\n",
       "      <td>5.41266</td>\n",
       "      <td>0.470657</td>\n",
       "      <td>0.456923</td>\n",
       "      <td>0.494668</td>\n",
       "      <td>1.496863</td>\n",
       "      <td>0.356643</td>\n",
       "    </tr>\n",
       "    <tr>\n",
       "      <th>min</th>\n",
       "      <td>1.000000</td>\n",
       "      <td>0.000000</td>\n",
       "      <td>0.00000</td>\n",
       "      <td>0.00000</td>\n",
       "      <td>0.000000</td>\n",
       "      <td>0.000000</td>\n",
       "      <td>0.000000</td>\n",
       "      <td>4.670000</td>\n",
       "      <td>0.000000</td>\n",
       "    </tr>\n",
       "    <tr>\n",
       "      <th>25%</th>\n",
       "      <td>1.000000</td>\n",
       "      <td>21.000000</td>\n",
       "      <td>5.00000</td>\n",
       "      <td>5.00000</td>\n",
       "      <td>0.000000</td>\n",
       "      <td>0.000000</td>\n",
       "      <td>0.000000</td>\n",
       "      <td>5.620000</td>\n",
       "      <td>0.000000</td>\n",
       "    </tr>\n",
       "    <tr>\n",
       "      <th>50%</th>\n",
       "      <td>1.000000</td>\n",
       "      <td>51.000000</td>\n",
       "      <td>17.00000</td>\n",
       "      <td>9.00000</td>\n",
       "      <td>1.000000</td>\n",
       "      <td>0.000000</td>\n",
       "      <td>0.000000</td>\n",
       "      <td>7.570000</td>\n",
       "      <td>0.000000</td>\n",
       "    </tr>\n",
       "    <tr>\n",
       "      <th>75%</th>\n",
       "      <td>2.000000</td>\n",
       "      <td>115.000000</td>\n",
       "      <td>28.00000</td>\n",
       "      <td>13.00000</td>\n",
       "      <td>1.000000</td>\n",
       "      <td>1.000000</td>\n",
       "      <td>1.000000</td>\n",
       "      <td>8.830000</td>\n",
       "      <td>0.000000</td>\n",
       "    </tr>\n",
       "    <tr>\n",
       "      <th>max</th>\n",
       "      <td>9.000000</td>\n",
       "      <td>867.000000</td>\n",
       "      <td>778.00000</td>\n",
       "      <td>23.00000</td>\n",
       "      <td>1.000000</td>\n",
       "      <td>1.000000</td>\n",
       "      <td>1.000000</td>\n",
       "      <td>9.500000</td>\n",
       "      <td>1.000000</td>\n",
       "    </tr>\n",
       "  </tbody>\n",
       "</table>\n",
       "</div>"
      ],
      "text/plain": [
       "       num_passengers  purchase_lead  length_of_stay  flight_hour  \\\n",
       "count    50000.000000   50000.000000     50000.00000  50000.00000   \n",
       "mean         1.591240      84.940480        23.04456      9.06634   \n",
       "std          1.020165      90.451378        33.88767      5.41266   \n",
       "min          1.000000       0.000000         0.00000      0.00000   \n",
       "25%          1.000000      21.000000         5.00000      5.00000   \n",
       "50%          1.000000      51.000000        17.00000      9.00000   \n",
       "75%          2.000000     115.000000        28.00000     13.00000   \n",
       "max          9.000000     867.000000       778.00000     23.00000   \n",
       "\n",
       "       wants_extra_baggage  wants_preferred_seat  wants_in_flight_meals  \\\n",
       "count         50000.000000          50000.000000           50000.000000   \n",
       "mean              0.668780              0.296960               0.427140   \n",
       "std               0.470657              0.456923               0.494668   \n",
       "min               0.000000              0.000000               0.000000   \n",
       "25%               0.000000              0.000000               0.000000   \n",
       "50%               1.000000              0.000000               0.000000   \n",
       "75%               1.000000              1.000000               1.000000   \n",
       "max               1.000000              1.000000               1.000000   \n",
       "\n",
       "       flight_duration  booking_complete  \n",
       "count     50000.000000      50000.000000  \n",
       "mean          7.277561          0.149560  \n",
       "std           1.496863          0.356643  \n",
       "min           4.670000          0.000000  \n",
       "25%           5.620000          0.000000  \n",
       "50%           7.570000          0.000000  \n",
       "75%           8.830000          0.000000  \n",
       "max           9.500000          1.000000  "
      ]
     },
     "execution_count": 75,
     "metadata": {},
     "output_type": "execute_result"
    }
   ],
   "source": [
    "df.describe()"
   ]
  },
  {
   "cell_type": "markdown",
   "metadata": {},
   "source": [
    "### Exploring Variables"
   ]
  },
  {
   "cell_type": "markdown",
   "metadata": {},
   "source": [
    "Here the target variable is `booking_complete` and from the summary statistics it can be said that more than 75% of the data is 0 i.e \"no booking\", so exploring the variable `booking_complete` further"
   ]
  },
  {
   "cell_type": "code",
   "execution_count": 76,
   "metadata": {},
   "outputs": [
    {
     "name": "stdout",
     "output_type": "stream",
     "text": [
      "0    42522\n",
      "1     7478\n",
      "Name: booking_complete, dtype: int64\n"
     ]
    }
   ],
   "source": [
    "booking_count = df.booking_complete.value_counts()\n",
    "print(booking_count)"
   ]
  },
  {
   "cell_type": "code",
   "execution_count": 77,
   "metadata": {},
   "outputs": [
    {
     "data": {
      "image/png": "[encoded data removed]",
      "text/plain": [
       "<Figure size 640x480 with 1 Axes>"
      ]
     },
     "metadata": {},
     "output_type": "display_data"
    }
   ],
   "source": [
    "#mapping 0 with 'No' and 1 'with 'Yes' for better uderstanding of the graph\n",
    "df.booking_complete.value_counts().rename({0: 'No', 1: 'Yes'}).plot(kind='bar')\n",
    "plt.xlabel('Booking Complete')\n",
    "plt.ylabel('Count')\n",
    "plt.title('Booking Complete Status')\n",
    "plt.xticks(rotation=0)\n",
    "plt.show()"
   ]
  },
  {
   "cell_type": "markdown",
   "metadata": {},
   "source": [
    "It is verified that the data is imbalanced"
   ]
  },
  {
   "cell_type": "markdown",
   "metadata": {},
   "source": [
    "Checking the data for different countries specifically for the imbalance"
   ]
  },
  {
   "cell_type": "code",
   "execution_count": 78,
   "metadata": {},
   "outputs": [
    {
     "data": {
      "image/png": "[encoded data removed]",
      "text/plain": [
       "<Figure size 1200x600 with 1 Axes>"
      ]
     },
     "metadata": {},
     "output_type": "display_data"
    }
   ],
   "source": [
    "# Group the data by 'booking_origin' and calculate the count of 'booking_complete' values\n",
    "df_viz = df.copy() # creating a copy for visualization\n",
    "country_counts = df_viz['booking_origin'].value_counts()\n",
    "other_countries = country_counts[country_counts < 100].index\n",
    "df_viz['booking_origin_grouped'] = df_viz['booking_origin'].apply(lambda x: x if x not in other_countries else 'Others')\n",
    "\n",
    "# Group by the 'booking_origin_grouped' column and 'booking_complete', then count\n",
    "country_counts_grouped = df_viz.groupby('booking_origin_grouped')['booking_complete'].value_counts().unstack(fill_value=0)\n",
    "\n",
    "# Create a bar chart\n",
    "country_counts_grouped.plot(kind='bar', stacked=True, figsize=(12, 6))\n",
    "plt.title('Booking Completion by Country (Grouped)')\n",
    "plt.xlabel('Country')\n",
    "plt.ylabel('Count')\n",
    "plt.legend(title='Booking Complete', labels=['Not Completed', 'Completed'])\n",
    "\n",
    "plt.show()"
   ]
  },
  {
   "cell_type": "markdown",
   "metadata": {},
   "source": [
    "In this visualisation the countires with the occurances greater than 100 are plotted, from this we can come to a conclusion that for each country the possibility of successfuly making a booking is varying. There the imbalances of each country should be fixed individually."
   ]
  },
  {
   "cell_type": "code",
   "execution_count": 79,
   "metadata": {},
   "outputs": [
    {
     "data": {
      "image/png": "[encoded data removed]",
      "text/plain": [
       "<Figure size 640x480 with 1 Axes>"
      ]
     },
     "metadata": {},
     "output_type": "display_data"
    }
   ],
   "source": [
    "#Pie Chart for sales channel count\n",
    "sales_channel_counts = df['sales_channel'].value_counts()\n",
    "plt.pie(sales_channel_counts, labels=sales_channel_counts.index, startangle=140)\n",
    "plt.title('Sales Channel Distribution')\n",
    "# Display the chart\n",
    "plt.show()"
   ]
  },
  {
   "cell_type": "markdown",
   "metadata": {},
   "source": [
    "There are more `Interent` users than the `Mobile` platform users"
   ]
  },
  {
   "cell_type": "code",
   "execution_count": 80,
   "metadata": {},
   "outputs": [
    {
     "data": {
      "image/png": "[encoded data removed]",
      "text/plain": [
       "<Figure size 640x480 with 1 Axes>"
      ]
     },
     "metadata": {},
     "output_type": "display_data"
    }
   ],
   "source": [
    "#Barplot for count proportion of each trip type that resulted in a booking completion \n",
    "df.groupby(['trip_type', 'booking_complete']).size().unstack().plot(kind='bar', stacked=True)\n",
    "plt.xlabel('Trip Type')\n",
    "plt.ylabel('Count')\n",
    "plt.title('Booking Complete vs. Trip Type')\n",
    "plt.xticks(rotation=0)\n",
    "plt.show()"
   ]
  },
  {
   "cell_type": "markdown",
   "metadata": {},
   "source": [
    "There are more number of people exploring `Round Trips` flights and more number of bookings for round trip as well "
   ]
  },
  {
   "cell_type": "markdown",
   "metadata": {},
   "source": [
    "### Feature Engineering: Dealing with categorical data "
   ]
  },
  {
   "cell_type": "markdown",
   "metadata": {},
   "source": [
    "#### Map encoding"
   ]
  },
  {
   "cell_type": "code",
   "execution_count": 10,
   "metadata": {},
   "outputs": [
    {
     "data": {
      "text/plain": [
       "array(['Sat', 'Wed', 'Thu', 'Mon', 'Sun', 'Tue', 'Fri'], dtype=object)"
      ]
     },
     "execution_count": 10,
     "metadata": {},
     "output_type": "execute_result"
    }
   ],
   "source": [
    "#Starting by checking unique elements in flight_day\n",
    "df['flight_day'].unique()"
   ]
  },
  {
   "cell_type": "code",
   "execution_count": 11,
   "metadata": {},
   "outputs": [],
   "source": [
    "#Mapping flight days from 1 to 7 and then encoding the same to the dataframe\n",
    "mapping_flight_day = {\n",
    "    \"Mon\": 1,\n",
    "    \"Tue\": 2,\n",
    "    \"Wed\": 3,\n",
    "    \"Thu\": 4,\n",
    "    \"Fri\": 5,\n",
    "    \"Sat\": 6,\n",
    "    \"Sun\": 7,\n",
    "}\n"
   ]
  },
  {
   "cell_type": "code",
   "execution_count": 12,
   "metadata": {
    "scrolled": true
   },
   "outputs": [
    {
     "data": {
      "text/plain": [
       "array(['Sat', 'Wed', 'Thu', 'Mon', 'Sun', 'Tue', 'Fri'], dtype=object)"
      ]
     },
     "execution_count": 12,
     "metadata": {},
     "output_type": "execute_result"
    }
   ],
   "source": [
    "df['flight_day'].unique()"
   ]
  },
  {
   "cell_type": "code",
   "execution_count": 13,
   "metadata": {},
   "outputs": [
    {
     "data": {
      "text/plain": [
       "array(['Internet', 'Mobile'], dtype=object)"
      ]
     },
     "execution_count": 13,
     "metadata": {},
     "output_type": "execute_result"
    }
   ],
   "source": [
    "#Checkingf or unique elements in sales_channel\n",
    "df['sales_channel'].unique() "
   ]
  },
  {
   "cell_type": "code",
   "execution_count": 14,
   "metadata": {},
   "outputs": [],
   "source": [
    "#Mapping internet with 1 and mobile with 2 and then encoding the same to the dataframe\n",
    "mapping_sales_channel = {\n",
    "    \"Internet\": 1,\n",
    "    \"Mobile\": 2,\n",
    "}\n"
   ]
  },
  {
   "cell_type": "code",
   "execution_count": 15,
   "metadata": {},
   "outputs": [
    {
     "data": {
      "text/plain": [
       "array(['RoundTrip', 'CircleTrip', 'OneWay'], dtype=object)"
      ]
     },
     "execution_count": 15,
     "metadata": {},
     "output_type": "execute_result"
    }
   ],
   "source": [
    "#Checking for types of trips\n",
    "df['trip_type'].unique()"
   ]
  },
  {
   "cell_type": "code",
   "execution_count": 16,
   "metadata": {},
   "outputs": [],
   "source": [
    "#Mapping the type of trips to 1 to and 3 and encoding them\n",
    "mapping_trip_type = {\n",
    "    \"RoundTrip\":1, \n",
    "    \"CircleTrip\":2, \n",
    "    \"OneWay\":3,\n",
    "}"
   ]
  },
  {
   "cell_type": "code",
   "execution_count": 17,
   "metadata": {},
   "outputs": [],
   "source": [
    "#Function for mapping and encoding categorical columns\n",
    "def map_and_encode(df, column, mapping):\n",
    "    df[column] = df[column].map(mapping)\n",
    "    return df"
   ]
  },
  {
   "cell_type": "code",
   "execution_count": 44,
   "metadata": {},
   "outputs": [],
   "source": [
    "#df = map_and_encode(df, 'flight_day', mapping_flight_day)\n",
    "#df = map_and_encode(df, 'sales_channel', mapping_sales_channel)\n",
    "#df = map_and_encode(df, 'trip_type', mapping_trip_type)\n",
    "columns_to_encode = ['flight_day', 'sales_channel', 'trip_type']\n",
    "\n",
    "# Perform one-hot encoding for the specified columns\n",
    "df = pd.get_dummies(df, columns=columns_to_encode)\n"
   ]
  },
  {
   "cell_type": "code",
   "execution_count": 6,
   "metadata": {},
   "outputs": [
    {
     "data": {
      "text/plain": [
       "799"
      ]
     },
     "execution_count": 6,
     "metadata": {},
     "output_type": "execute_result"
    }
   ],
   "source": [
    "#Checking for number of unique routes\n",
    "len(df['route'].unique())"
   ]
  },
  {
   "cell_type": "code",
   "execution_count": 83,
   "metadata": {},
   "outputs": [
    {
     "data": {
      "text/plain": [
       "104"
      ]
     },
     "execution_count": 83,
     "metadata": {},
     "output_type": "execute_result"
    }
   ],
   "source": [
    "#Checking for number of unique booking_origin\n",
    "len(df['booking_origin'].unique())"
   ]
  },
  {
   "cell_type": "markdown",
   "metadata": {},
   "source": [
    "The features `flight_day`, `sales_channel` and `trip_type` have a very few number of unique categorical values , so mapping is feasible. But for `route` and `booking_origin` this is not possible. Therefore making use of target encoding to encode `route` and `booking_origin`."
   ]
  },
  {
   "cell_type": "markdown",
   "metadata": {},
   "source": [
    "#### Target encoding"
   ]
  },
  {
   "cell_type": "markdown",
   "metadata": {},
   "source": [
    "encoder = TargetEncoder()\n",
    "df['route'] = encoder.fit_transform(df['route'], df['booking_complete'])\n",
    "df['booking_origin'] = encoder.fit_transform(df['booking_origin'], df['booking_complete'])"
   ]
  },
  {
   "cell_type": "code",
   "execution_count": 45,
   "metadata": {},
   "outputs": [],
   "source": [
    "import category_encoders as ce\n",
    "# Initialize the BinaryEncoder\n",
    "encoder = ce.CountEncoder(cols=['route', 'booking_origin'])\n",
    "\n",
    "# Perform binary encoding\n",
    "df = encoder.fit_transform(df)"
   ]
  },
  {
   "cell_type": "code",
   "execution_count": 46,
   "metadata": {},
   "outputs": [
    {
     "data": {
      "text/html": [
       "<div>\n",
       "<style scoped>\n",
       "    .dataframe tbody tr th:only-of-type {\n",
       "        vertical-align: middle;\n",
       "    }\n",
       "\n",
       "    .dataframe tbody tr th {\n",
       "        vertical-align: top;\n",
       "    }\n",
       "\n",
       "    .dataframe thead th {\n",
       "        text-align: right;\n",
       "    }\n",
       "</style>\n",
       "<table border=\"1\" class=\"dataframe\">\n",
       "  <thead>\n",
       "    <tr style=\"text-align: right;\">\n",
       "      <th></th>\n",
       "      <th>num_passengers</th>\n",
       "      <th>purchase_lead</th>\n",
       "      <th>length_of_stay</th>\n",
       "      <th>flight_hour</th>\n",
       "      <th>route</th>\n",
       "      <th>booking_origin</th>\n",
       "      <th>wants_extra_baggage</th>\n",
       "      <th>wants_preferred_seat</th>\n",
       "      <th>wants_in_flight_meals</th>\n",
       "      <th>flight_duration</th>\n",
       "      <th>...</th>\n",
       "      <th>flight_day_Sat</th>\n",
       "      <th>flight_day_Sun</th>\n",
       "      <th>flight_day_Thu</th>\n",
       "      <th>flight_day_Tue</th>\n",
       "      <th>flight_day_Wed</th>\n",
       "      <th>sales_channel_Internet</th>\n",
       "      <th>sales_channel_Mobile</th>\n",
       "      <th>trip_type_CircleTrip</th>\n",
       "      <th>trip_type_OneWay</th>\n",
       "      <th>trip_type_RoundTrip</th>\n",
       "    </tr>\n",
       "  </thead>\n",
       "  <tbody>\n",
       "    <tr>\n",
       "      <th>count</th>\n",
       "      <td>50000.000000</td>\n",
       "      <td>50000.000000</td>\n",
       "      <td>50000.00000</td>\n",
       "      <td>50000.00000</td>\n",
       "      <td>50000.000000</td>\n",
       "      <td>50000.000000</td>\n",
       "      <td>50000.000000</td>\n",
       "      <td>50000.000000</td>\n",
       "      <td>50000.000000</td>\n",
       "      <td>50000.000000</td>\n",
       "      <td>...</td>\n",
       "      <td>50000.000000</td>\n",
       "      <td>50000.000000</td>\n",
       "      <td>50000.000000</td>\n",
       "      <td>50000.000000</td>\n",
       "      <td>50000.000000</td>\n",
       "      <td>50000.000000</td>\n",
       "      <td>50000.000000</td>\n",
       "      <td>50000.000000</td>\n",
       "      <td>50000.000000</td>\n",
       "      <td>50000.000000</td>\n",
       "    </tr>\n",
       "    <tr>\n",
       "      <th>mean</th>\n",
       "      <td>1.591240</td>\n",
       "      <td>84.940480</td>\n",
       "      <td>23.04456</td>\n",
       "      <td>9.06634</td>\n",
       "      <td>404.939120</td>\n",
       "      <td>8737.094720</td>\n",
       "      <td>0.668780</td>\n",
       "      <td>0.296960</td>\n",
       "      <td>0.427140</td>\n",
       "      <td>7.277561</td>\n",
       "      <td>...</td>\n",
       "      <td>0.116240</td>\n",
       "      <td>0.131080</td>\n",
       "      <td>0.148480</td>\n",
       "      <td>0.153460</td>\n",
       "      <td>0.153480</td>\n",
       "      <td>0.887640</td>\n",
       "      <td>0.112360</td>\n",
       "      <td>0.002320</td>\n",
       "      <td>0.007740</td>\n",
       "      <td>0.989940</td>\n",
       "    </tr>\n",
       "    <tr>\n",
       "      <th>std</th>\n",
       "      <td>1.020165</td>\n",
       "      <td>90.451378</td>\n",
       "      <td>33.88767</td>\n",
       "      <td>5.41266</td>\n",
       "      <td>591.782184</td>\n",
       "      <td>7054.684827</td>\n",
       "      <td>0.470657</td>\n",
       "      <td>0.456923</td>\n",
       "      <td>0.494668</td>\n",
       "      <td>1.496863</td>\n",
       "      <td>...</td>\n",
       "      <td>0.320516</td>\n",
       "      <td>0.337491</td>\n",
       "      <td>0.355579</td>\n",
       "      <td>0.360434</td>\n",
       "      <td>0.360453</td>\n",
       "      <td>0.315812</td>\n",
       "      <td>0.315812</td>\n",
       "      <td>0.048111</td>\n",
       "      <td>0.087637</td>\n",
       "      <td>0.099795</td>\n",
       "    </tr>\n",
       "    <tr>\n",
       "      <th>min</th>\n",
       "      <td>1.000000</td>\n",
       "      <td>0.000000</td>\n",
       "      <td>0.00000</td>\n",
       "      <td>0.00000</td>\n",
       "      <td>1.000000</td>\n",
       "      <td>1.000000</td>\n",
       "      <td>0.000000</td>\n",
       "      <td>0.000000</td>\n",
       "      <td>0.000000</td>\n",
       "      <td>4.670000</td>\n",
       "      <td>...</td>\n",
       "      <td>0.000000</td>\n",
       "      <td>0.000000</td>\n",
       "      <td>0.000000</td>\n",
       "      <td>0.000000</td>\n",
       "      <td>0.000000</td>\n",
       "      <td>0.000000</td>\n",
       "      <td>0.000000</td>\n",
       "      <td>0.000000</td>\n",
       "      <td>0.000000</td>\n",
       "      <td>0.000000</td>\n",
       "    </tr>\n",
       "    <tr>\n",
       "      <th>25%</th>\n",
       "      <td>1.000000</td>\n",
       "      <td>21.000000</td>\n",
       "      <td>5.00000</td>\n",
       "      <td>5.00000</td>\n",
       "      <td>81.000000</td>\n",
       "      <td>2369.000000</td>\n",
       "      <td>0.000000</td>\n",
       "      <td>0.000000</td>\n",
       "      <td>0.000000</td>\n",
       "      <td>5.620000</td>\n",
       "      <td>...</td>\n",
       "      <td>0.000000</td>\n",
       "      <td>0.000000</td>\n",
       "      <td>0.000000</td>\n",
       "      <td>0.000000</td>\n",
       "      <td>0.000000</td>\n",
       "      <td>1.000000</td>\n",
       "      <td>0.000000</td>\n",
       "      <td>0.000000</td>\n",
       "      <td>0.000000</td>\n",
       "      <td>1.000000</td>\n",
       "    </tr>\n",
       "    <tr>\n",
       "      <th>50%</th>\n",
       "      <td>1.000000</td>\n",
       "      <td>51.000000</td>\n",
       "      <td>17.00000</td>\n",
       "      <td>9.00000</td>\n",
       "      <td>227.000000</td>\n",
       "      <td>7174.000000</td>\n",
       "      <td>1.000000</td>\n",
       "      <td>0.000000</td>\n",
       "      <td>0.000000</td>\n",
       "      <td>7.570000</td>\n",
       "      <td>...</td>\n",
       "      <td>0.000000</td>\n",
       "      <td>0.000000</td>\n",
       "      <td>0.000000</td>\n",
       "      <td>0.000000</td>\n",
       "      <td>0.000000</td>\n",
       "      <td>1.000000</td>\n",
       "      <td>0.000000</td>\n",
       "      <td>0.000000</td>\n",
       "      <td>0.000000</td>\n",
       "      <td>1.000000</td>\n",
       "    </tr>\n",
       "    <tr>\n",
       "      <th>75%</th>\n",
       "      <td>2.000000</td>\n",
       "      <td>115.000000</td>\n",
       "      <td>28.00000</td>\n",
       "      <td>13.00000</td>\n",
       "      <td>465.000000</td>\n",
       "      <td>17872.000000</td>\n",
       "      <td>1.000000</td>\n",
       "      <td>1.000000</td>\n",
       "      <td>1.000000</td>\n",
       "      <td>8.830000</td>\n",
       "      <td>...</td>\n",
       "      <td>0.000000</td>\n",
       "      <td>0.000000</td>\n",
       "      <td>0.000000</td>\n",
       "      <td>0.000000</td>\n",
       "      <td>0.000000</td>\n",
       "      <td>1.000000</td>\n",
       "      <td>0.000000</td>\n",
       "      <td>0.000000</td>\n",
       "      <td>0.000000</td>\n",
       "      <td>1.000000</td>\n",
       "    </tr>\n",
       "    <tr>\n",
       "      <th>max</th>\n",
       "      <td>9.000000</td>\n",
       "      <td>867.000000</td>\n",
       "      <td>778.00000</td>\n",
       "      <td>23.00000</td>\n",
       "      <td>2680.000000</td>\n",
       "      <td>17872.000000</td>\n",
       "      <td>1.000000</td>\n",
       "      <td>1.000000</td>\n",
       "      <td>1.000000</td>\n",
       "      <td>9.500000</td>\n",
       "      <td>...</td>\n",
       "      <td>1.000000</td>\n",
       "      <td>1.000000</td>\n",
       "      <td>1.000000</td>\n",
       "      <td>1.000000</td>\n",
       "      <td>1.000000</td>\n",
       "      <td>1.000000</td>\n",
       "      <td>1.000000</td>\n",
       "      <td>1.000000</td>\n",
       "      <td>1.000000</td>\n",
       "      <td>1.000000</td>\n",
       "    </tr>\n",
       "  </tbody>\n",
       "</table>\n",
       "<p>8 rows × 23 columns</p>\n",
       "</div>"
      ],
      "text/plain": [
       "       num_passengers  purchase_lead  length_of_stay  flight_hour  \\\n",
       "count    50000.000000   50000.000000     50000.00000  50000.00000   \n",
       "mean         1.591240      84.940480        23.04456      9.06634   \n",
       "std          1.020165      90.451378        33.88767      5.41266   \n",
       "min          1.000000       0.000000         0.00000      0.00000   \n",
       "25%          1.000000      21.000000         5.00000      5.00000   \n",
       "50%          1.000000      51.000000        17.00000      9.00000   \n",
       "75%          2.000000     115.000000        28.00000     13.00000   \n",
       "max          9.000000     867.000000       778.00000     23.00000   \n",
       "\n",
       "              route  booking_origin  wants_extra_baggage  \\\n",
       "count  50000.000000    50000.000000         50000.000000   \n",
       "mean     404.939120     8737.094720             0.668780   \n",
       "std      591.782184     7054.684827             0.470657   \n",
       "min        1.000000        1.000000             0.000000   \n",
       "25%       81.000000     2369.000000             0.000000   \n",
       "50%      227.000000     7174.000000             1.000000   \n",
       "75%      465.000000    17872.000000             1.000000   \n",
       "max     2680.000000    17872.000000             1.000000   \n",
       "\n",
       "       wants_preferred_seat  wants_in_flight_meals  flight_duration  ...  \\\n",
       "count          50000.000000           50000.000000     50000.000000  ...   \n",
       "mean               0.296960               0.427140         7.277561  ...   \n",
       "std                0.456923               0.494668         1.496863  ...   \n",
       "min                0.000000               0.000000         4.670000  ...   \n",
       "25%                0.000000               0.000000         5.620000  ...   \n",
       "50%                0.000000               0.000000         7.570000  ...   \n",
       "75%                1.000000               1.000000         8.830000  ...   \n",
       "max                1.000000               1.000000         9.500000  ...   \n",
       "\n",
       "       flight_day_Sat  flight_day_Sun  flight_day_Thu  flight_day_Tue  \\\n",
       "count    50000.000000    50000.000000    50000.000000    50000.000000   \n",
       "mean         0.116240        0.131080        0.148480        0.153460   \n",
       "std          0.320516        0.337491        0.355579        0.360434   \n",
       "min          0.000000        0.000000        0.000000        0.000000   \n",
       "25%          0.000000        0.000000        0.000000        0.000000   \n",
       "50%          0.000000        0.000000        0.000000        0.000000   \n",
       "75%          0.000000        0.000000        0.000000        0.000000   \n",
       "max          1.000000        1.000000        1.000000        1.000000   \n",
       "\n",
       "       flight_day_Wed  sales_channel_Internet  sales_channel_Mobile  \\\n",
       "count    50000.000000            50000.000000          50000.000000   \n",
       "mean         0.153480                0.887640              0.112360   \n",
       "std          0.360453                0.315812              0.315812   \n",
       "min          0.000000                0.000000              0.000000   \n",
       "25%          0.000000                1.000000              0.000000   \n",
       "50%          0.000000                1.000000              0.000000   \n",
       "75%          0.000000                1.000000              0.000000   \n",
       "max          1.000000                1.000000              1.000000   \n",
       "\n",
       "       trip_type_CircleTrip  trip_type_OneWay  trip_type_RoundTrip  \n",
       "count          50000.000000      50000.000000         50000.000000  \n",
       "mean               0.002320          0.007740             0.989940  \n",
       "std                0.048111          0.087637             0.099795  \n",
       "min                0.000000          0.000000             0.000000  \n",
       "25%                0.000000          0.000000             1.000000  \n",
       "50%                0.000000          0.000000             1.000000  \n",
       "75%                0.000000          0.000000             1.000000  \n",
       "max                1.000000          1.000000             1.000000  \n",
       "\n",
       "[8 rows x 23 columns]"
      ]
     },
     "execution_count": 46,
     "metadata": {},
     "output_type": "execute_result"
    }
   ],
   "source": [
    "#Data after encoding\n",
    "df.describe()"
   ]
  },
  {
   "cell_type": "code",
   "execution_count": 47,
   "metadata": {},
   "outputs": [
    {
     "name": "stdout",
     "output_type": "stream",
     "text": [
      "<class 'pandas.core.frame.DataFrame'>\n",
      "RangeIndex: 50000 entries, 0 to 49999\n",
      "Data columns (total 23 columns):\n",
      " #   Column                  Non-Null Count  Dtype  \n",
      "---  ------                  --------------  -----  \n",
      " 0   num_passengers          50000 non-null  int64  \n",
      " 1   purchase_lead           50000 non-null  int64  \n",
      " 2   length_of_stay          50000 non-null  int64  \n",
      " 3   flight_hour             50000 non-null  int64  \n",
      " 4   route                   50000 non-null  int64  \n",
      " 5   booking_origin          50000 non-null  int64  \n",
      " 6   wants_extra_baggage     50000 non-null  int64  \n",
      " 7   wants_preferred_seat    50000 non-null  int64  \n",
      " 8   wants_in_flight_meals   50000 non-null  int64  \n",
      " 9   flight_duration         50000 non-null  float64\n",
      " 10  booking_complete        50000 non-null  int64  \n",
      " 11  flight_day_Fri          50000 non-null  uint8  \n",
      " 12  flight_day_Mon          50000 non-null  uint8  \n",
      " 13  flight_day_Sat          50000 non-null  uint8  \n",
      " 14  flight_day_Sun          50000 non-null  uint8  \n",
      " 15  flight_day_Thu          50000 non-null  uint8  \n",
      " 16  flight_day_Tue          50000 non-null  uint8  \n",
      " 17  flight_day_Wed          50000 non-null  uint8  \n",
      " 18  sales_channel_Internet  50000 non-null  uint8  \n",
      " 19  sales_channel_Mobile    50000 non-null  uint8  \n",
      " 20  trip_type_CircleTrip    50000 non-null  uint8  \n",
      " 21  trip_type_OneWay        50000 non-null  uint8  \n",
      " 22  trip_type_RoundTrip     50000 non-null  uint8  \n",
      "dtypes: float64(1), int64(10), uint8(12)\n",
      "memory usage: 4.8 MB\n"
     ]
    }
   ],
   "source": [
    "df.info()"
   ]
  },
  {
   "cell_type": "markdown",
   "metadata": {},
   "source": [
    "### Checking the relationship between the variables"
   ]
  },
  {
   "cell_type": "code",
   "execution_count": 14,
   "metadata": {},
   "outputs": [
    {
     "name": "stdout",
     "output_type": "stream",
     "text": [
      "       num_passengers  purchase_lead  length_of_stay  flight_hour  route_0  \\\n",
      "0                   2            262              19            7        0   \n",
      "1                   1            112              20            3        0   \n",
      "2                   2            243              22           17        0   \n",
      "3                   1             96              31            4        0   \n",
      "4                   2             68              22           15        0   \n",
      "...               ...            ...             ...          ...      ...   \n",
      "49995               2             27               6            9        1   \n",
      "49996               1            111               6            4        1   \n",
      "49997               1             24               6           22        1   \n",
      "49998               1             15               6           11        1   \n",
      "49999               1             19               6           10        1   \n",
      "\n",
      "       route_1  route_2  route_3  route_4  route_5  ...  flight_day_Sat  \\\n",
      "0            0        0        0        0        0  ...               1   \n",
      "1            0        0        0        0        0  ...               1   \n",
      "2            0        0        0        0        0  ...               0   \n",
      "3            0        0        0        0        0  ...               1   \n",
      "4            0        0        0        0        0  ...               0   \n",
      "...        ...      ...      ...      ...      ...  ...             ...   \n",
      "49995        0        0        1        1        1  ...               1   \n",
      "49996        0        0        1        1        1  ...               0   \n",
      "49997        0        0        1        1        1  ...               1   \n",
      "49998        0        0        1        1        1  ...               0   \n",
      "49999        0        0        1        1        1  ...               0   \n",
      "\n",
      "       flight_day_Sun  flight_day_Thu  flight_day_Tue  flight_day_Wed  \\\n",
      "0                   0               0               0               0   \n",
      "1                   0               0               0               0   \n",
      "2                   0               0               0               1   \n",
      "3                   0               0               0               0   \n",
      "4                   0               0               0               1   \n",
      "...               ...             ...             ...             ...   \n",
      "49995               0               0               0               0   \n",
      "49996               1               0               0               0   \n",
      "49997               0               0               0               0   \n",
      "49998               0               0               0               0   \n",
      "49999               0               1               0               0   \n",
      "\n",
      "       sales_channel_Internet  sales_channel_Mobile  trip_type_CircleTrip  \\\n",
      "0                           1                     0                     0   \n",
      "1                           1                     0                     0   \n",
      "2                           1                     0                     0   \n",
      "3                           1                     0                     0   \n",
      "4                           1                     0                     0   \n",
      "...                       ...                   ...                   ...   \n",
      "49995                       1                     0                     0   \n",
      "49996                       1                     0                     0   \n",
      "49997                       1                     0                     0   \n",
      "49998                       1                     0                     0   \n",
      "49999                       1                     0                     0   \n",
      "\n",
      "       trip_type_OneWay  trip_type_RoundTrip  \n",
      "0                     0                    1  \n",
      "1                     0                    1  \n",
      "2                     0                    1  \n",
      "3                     0                    1  \n",
      "4                     0                    1  \n",
      "...                 ...                  ...  \n",
      "49995                 0                    1  \n",
      "49996                 0                    1  \n",
      "49997                 0                    1  \n",
      "49998                 0                    1  \n",
      "49999                 0                    1  \n",
      "\n",
      "[50000 rows x 38 columns]\n"
     ]
    }
   ],
   "source": [
    "#checking for outliers\n",
    "# Calculate Q1 and Q3\n",
    "Q1 = df.quantile(0.25)\n",
    "Q3 = df.quantile(0.75)\n",
    "\n",
    "# Calculate IQR\n",
    "IQR = Q3 - Q1\n",
    "\n",
    "# Define the lower and upper bounds for outliers\n",
    "lower_bound = Q1 - 1.5 * IQR\n",
    "upper_bound = Q3 + 1.5 * IQR\n",
    "\n",
    "# Identify outliers\n",
    "outliers = ((df < lower_bound) | (df > upper_bound)).any(axis=1)\n",
    "\n",
    "# Print or manipulate the rows containing outliers\n",
    "print(df[outliers])"
   ]
  },
  {
   "cell_type": "markdown",
   "metadata": {},
   "source": [
    "There are a significant number of outliers in the data"
   ]
  },
  {
   "cell_type": "code",
   "execution_count": 15,
   "metadata": {},
   "outputs": [
    {
     "data": {
      "text/html": [
       "<style>#sk-container-id-1 {color: black;background-color: white;}#sk-container-id-1 pre{padding: 0;}#sk-container-id-1 div.sk-toggleable {background-color: white;}#sk-container-id-1 label.sk-toggleable__label {cursor: pointer;display: block;width: 100%;margin-bottom: 0;padding: 0.3em;box-sizing: border-box;text-align: center;}#sk-container-id-1 label.sk-toggleable__label-arrow:before {content: \"▸\";float: left;margin-right: 0.25em;color: #696969;}#sk-container-id-1 label.sk-toggleable__label-arrow:hover:before {color: black;}#sk-container-id-1 div.sk-estimator:hover label.sk-toggleable__label-arrow:before {color: black;}#sk-container-id-1 div.sk-toggleable__content {max-height: 0;max-width: 0;overflow: hidden;text-align: left;background-color: #f0f8ff;}#sk-container-id-1 div.sk-toggleable__content pre {margin: 0.2em;color: black;border-radius: 0.25em;background-color: #f0f8ff;}#sk-container-id-1 input.sk-toggleable__control:checked~div.sk-toggleable__content {max-height: 200px;max-width: 100%;overflow: auto;}#sk-container-id-1 input.sk-toggleable__control:checked~label.sk-toggleable__label-arrow:before {content: \"▾\";}#sk-container-id-1 div.sk-estimator input.sk-toggleable__control:checked~label.sk-toggleable__label {background-color: #d4ebff;}#sk-container-id-1 div.sk-label input.sk-toggleable__control:checked~label.sk-toggleable__label {background-color: #d4ebff;}#sk-container-id-1 input.sk-hidden--visually {border: 0;clip: rect(1px 1px 1px 1px);clip: rect(1px, 1px, 1px, 1px);height: 1px;margin: -1px;overflow: hidden;padding: 0;position: absolute;width: 1px;}#sk-container-id-1 div.sk-estimator {font-family: monospace;background-color: #f0f8ff;border: 1px dotted black;border-radius: 0.25em;box-sizing: border-box;margin-bottom: 0.5em;}#sk-container-id-1 div.sk-estimator:hover {background-color: #d4ebff;}#sk-container-id-1 div.sk-parallel-item::after {content: \"\";width: 100%;border-bottom: 1px solid gray;flex-grow: 1;}#sk-container-id-1 div.sk-label:hover label.sk-toggleable__label {background-color: #d4ebff;}#sk-container-id-1 div.sk-serial::before {content: \"\";position: absolute;border-left: 1px solid gray;box-sizing: border-box;top: 0;bottom: 0;left: 50%;z-index: 0;}#sk-container-id-1 div.sk-serial {display: flex;flex-direction: column;align-items: center;background-color: white;padding-right: 0.2em;padding-left: 0.2em;position: relative;}#sk-container-id-1 div.sk-item {position: relative;z-index: 1;}#sk-container-id-1 div.sk-parallel {display: flex;align-items: stretch;justify-content: center;background-color: white;position: relative;}#sk-container-id-1 div.sk-item::before, #sk-container-id-1 div.sk-parallel-item::before {content: \"\";position: absolute;border-left: 1px solid gray;box-sizing: border-box;top: 0;bottom: 0;left: 50%;z-index: -1;}#sk-container-id-1 div.sk-parallel-item {display: flex;flex-direction: column;z-index: 1;position: relative;background-color: white;}#sk-container-id-1 div.sk-parallel-item:first-child::after {align-self: flex-end;width: 50%;}#sk-container-id-1 div.sk-parallel-item:last-child::after {align-self: flex-start;width: 50%;}#sk-container-id-1 div.sk-parallel-item:only-child::after {width: 0;}#sk-container-id-1 div.sk-dashed-wrapped {border: 1px dashed gray;margin: 0 0.4em 0.5em 0.4em;box-sizing: border-box;padding-bottom: 0.4em;background-color: white;}#sk-container-id-1 div.sk-label label {font-family: monospace;font-weight: bold;display: inline-block;line-height: 1.2em;}#sk-container-id-1 div.sk-label-container {text-align: center;}#sk-container-id-1 div.sk-container {/* jupyter's `normalize.less` sets `[hidden] { display: none; }` but bootstrap.min.css set `[hidden] { display: none !important; }` so we also need the `!important` here to be able to override the default hidden behavior on the sphinx rendered scikit-learn.org. See: https://github.com/scikit-learn/scikit-learn/issues/21755 */display: inline-block !important;position: relative;}#sk-container-id-1 div.sk-text-repr-fallback {display: none;}</style><div id=\"sk-container-id-1\" class=\"sk-top-container\"><div class=\"sk-text-repr-fallback\"><pre>LinearRegression()</pre><b>In a Jupyter environment, please rerun this cell to show the HTML representation or trust the notebook. <br />On GitHub, the HTML representation is unable to render, please try loading this page with nbviewer.org.</b></div><div class=\"sk-container\" hidden><div class=\"sk-item\"><div class=\"sk-estimator sk-toggleable\"><input class=\"sk-toggleable__control sk-hidden--visually\" id=\"sk-estimator-id-1\" type=\"checkbox\" checked><label for=\"sk-estimator-id-1\" class=\"sk-toggleable__label sk-toggleable__label-arrow\">LinearRegression</label><div class=\"sk-toggleable__content\"><pre>LinearRegression()</pre></div></div></div></div></div>"
      ],
      "text/plain": [
       "LinearRegression()"
      ]
     },
     "execution_count": 15,
     "metadata": {},
     "output_type": "execute_result"
    }
   ],
   "source": [
    "#Checking for linear relationship between variables using regression analysis\n",
    "features = df.drop('booking_complete', axis=1) \n",
    "# Create a linear regression model\n",
    "model = LinearRegression()\n",
    "model.fit(features, df['booking_complete'])"
   ]
  },
  {
   "cell_type": "code",
   "execution_count": 16,
   "metadata": {},
   "outputs": [
    {
     "data": {
      "image/png": "[encoded data removed]",
      "text/plain": [
       "<Figure size 640x480 with 1 Axes>"
      ]
     },
     "metadata": {},
     "output_type": "display_data"
    }
   ],
   "source": [
    "predicted = model.predict(features)\n",
    "residuals = df['booking_complete'] - predicted\n",
    "plt.scatter(predicted, residuals)\n",
    "plt.axhline(y=0, color='r', linestyle='--')\n",
    "plt.show()"
   ]
  },
  {
   "cell_type": "markdown",
   "metadata": {},
   "source": [
    "This plot of predicted vs residuals signifies that the variables don't have a linear relationship, therefore `Spearmann's Rank Correlation` is used to calcualte the correlation between the variables "
   ]
  },
  {
   "cell_type": "code",
   "execution_count": 48,
   "metadata": {},
   "outputs": [
    {
     "data": {
      "text/html": [
       "<div>\n",
       "<style scoped>\n",
       "    .dataframe tbody tr th:only-of-type {\n",
       "        vertical-align: middle;\n",
       "    }\n",
       "\n",
       "    .dataframe tbody tr th {\n",
       "        vertical-align: top;\n",
       "    }\n",
       "\n",
       "    .dataframe thead th {\n",
       "        text-align: right;\n",
       "    }\n",
       "</style>\n",
       "<table border=\"1\" class=\"dataframe\">\n",
       "  <thead>\n",
       "    <tr style=\"text-align: right;\">\n",
       "      <th></th>\n",
       "      <th>num_passengers</th>\n",
       "      <th>purchase_lead</th>\n",
       "      <th>length_of_stay</th>\n",
       "      <th>flight_hour</th>\n",
       "      <th>route</th>\n",
       "      <th>booking_origin</th>\n",
       "      <th>wants_extra_baggage</th>\n",
       "      <th>wants_preferred_seat</th>\n",
       "      <th>wants_in_flight_meals</th>\n",
       "      <th>flight_duration</th>\n",
       "      <th>...</th>\n",
       "      <th>flight_day_Sat</th>\n",
       "      <th>flight_day_Sun</th>\n",
       "      <th>flight_day_Thu</th>\n",
       "      <th>flight_day_Tue</th>\n",
       "      <th>flight_day_Wed</th>\n",
       "      <th>sales_channel_Internet</th>\n",
       "      <th>sales_channel_Mobile</th>\n",
       "      <th>trip_type_CircleTrip</th>\n",
       "      <th>trip_type_OneWay</th>\n",
       "      <th>trip_type_RoundTrip</th>\n",
       "    </tr>\n",
       "  </thead>\n",
       "  <tbody>\n",
       "    <tr>\n",
       "      <th>num_passengers</th>\n",
       "      <td>1.000000</td>\n",
       "      <td>0.253983</td>\n",
       "      <td>-0.125389</td>\n",
       "      <td>0.024562</td>\n",
       "      <td>0.005743</td>\n",
       "      <td>-0.071964</td>\n",
       "      <td>0.131922</td>\n",
       "      <td>0.047646</td>\n",
       "      <td>0.020788</td>\n",
       "      <td>-0.059025</td>\n",
       "      <td>...</td>\n",
       "      <td>0.010084</td>\n",
       "      <td>0.032267</td>\n",
       "      <td>-0.007318</td>\n",
       "      <td>-0.013174</td>\n",
       "      <td>-0.005776</td>\n",
       "      <td>0.003290</td>\n",
       "      <td>-0.003290</td>\n",
       "      <td>0.001922</td>\n",
       "      <td>-0.004742</td>\n",
       "      <td>0.003238</td>\n",
       "    </tr>\n",
       "    <tr>\n",
       "      <th>purchase_lead</th>\n",
       "      <td>0.253983</td>\n",
       "      <td>1.000000</td>\n",
       "      <td>0.024810</td>\n",
       "      <td>0.043673</td>\n",
       "      <td>0.058186</td>\n",
       "      <td>-0.025420</td>\n",
       "      <td>0.016768</td>\n",
       "      <td>0.008763</td>\n",
       "      <td>-0.000309</td>\n",
       "      <td>0.078954</td>\n",
       "      <td>...</td>\n",
       "      <td>0.009720</td>\n",
       "      <td>0.097173</td>\n",
       "      <td>-0.032106</td>\n",
       "      <td>-0.017147</td>\n",
       "      <td>-0.044985</td>\n",
       "      <td>0.016415</td>\n",
       "      <td>-0.016415</td>\n",
       "      <td>0.009097</td>\n",
       "      <td>0.010200</td>\n",
       "      <td>-0.013343</td>\n",
       "    </tr>\n",
       "    <tr>\n",
       "      <th>length_of_stay</th>\n",
       "      <td>-0.125389</td>\n",
       "      <td>0.024810</td>\n",
       "      <td>1.000000</td>\n",
       "      <td>-0.047602</td>\n",
       "      <td>0.021819</td>\n",
       "      <td>0.216945</td>\n",
       "      <td>0.284546</td>\n",
       "      <td>0.025141</td>\n",
       "      <td>0.128857</td>\n",
       "      <td>0.234792</td>\n",
       "      <td>...</td>\n",
       "      <td>0.005241</td>\n",
       "      <td>-0.005193</td>\n",
       "      <td>0.001032</td>\n",
       "      <td>-0.005604</td>\n",
       "      <td>-0.001866</td>\n",
       "      <td>0.082412</td>\n",
       "      <td>-0.082412</td>\n",
       "      <td>0.003994</td>\n",
       "      <td>-0.019126</td>\n",
       "      <td>0.014870</td>\n",
       "    </tr>\n",
       "    <tr>\n",
       "      <th>flight_hour</th>\n",
       "      <td>0.024562</td>\n",
       "      <td>0.043673</td>\n",
       "      <td>-0.047602</td>\n",
       "      <td>1.000000</td>\n",
       "      <td>0.002255</td>\n",
       "      <td>-0.082190</td>\n",
       "      <td>-0.010128</td>\n",
       "      <td>0.009928</td>\n",
       "      <td>0.012159</td>\n",
       "      <td>-0.023922</td>\n",
       "      <td>...</td>\n",
       "      <td>-0.007482</td>\n",
       "      <td>0.046721</td>\n",
       "      <td>-0.004923</td>\n",
       "      <td>-0.003307</td>\n",
       "      <td>-0.004154</td>\n",
       "      <td>-0.022843</td>\n",
       "      <td>0.022843</td>\n",
       "      <td>-0.000121</td>\n",
       "      <td>0.004523</td>\n",
       "      <td>-0.003914</td>\n",
       "    </tr>\n",
       "    <tr>\n",
       "      <th>route</th>\n",
       "      <td>0.005743</td>\n",
       "      <td>0.058186</td>\n",
       "      <td>0.021819</td>\n",
       "      <td>0.002255</td>\n",
       "      <td>1.000000</td>\n",
       "      <td>0.064670</td>\n",
       "      <td>0.017855</td>\n",
       "      <td>-0.001854</td>\n",
       "      <td>0.005332</td>\n",
       "      <td>0.214550</td>\n",
       "      <td>...</td>\n",
       "      <td>-0.001161</td>\n",
       "      <td>0.014558</td>\n",
       "      <td>-0.009244</td>\n",
       "      <td>0.007695</td>\n",
       "      <td>-0.001681</td>\n",
       "      <td>0.020356</td>\n",
       "      <td>-0.020356</td>\n",
       "      <td>-0.020797</td>\n",
       "      <td>-0.014136</td>\n",
       "      <td>0.022440</td>\n",
       "    </tr>\n",
       "    <tr>\n",
       "      <th>booking_origin</th>\n",
       "      <td>-0.071964</td>\n",
       "      <td>-0.025420</td>\n",
       "      <td>0.216945</td>\n",
       "      <td>-0.082190</td>\n",
       "      <td>0.064670</td>\n",
       "      <td>1.000000</td>\n",
       "      <td>0.057695</td>\n",
       "      <td>0.076618</td>\n",
       "      <td>0.111667</td>\n",
       "      <td>0.275182</td>\n",
       "      <td>...</td>\n",
       "      <td>-0.006480</td>\n",
       "      <td>-0.009199</td>\n",
       "      <td>0.015709</td>\n",
       "      <td>-0.005634</td>\n",
       "      <td>0.010121</td>\n",
       "      <td>0.059485</td>\n",
       "      <td>-0.059485</td>\n",
       "      <td>0.017537</td>\n",
       "      <td>-0.006612</td>\n",
       "      <td>-0.002648</td>\n",
       "    </tr>\n",
       "    <tr>\n",
       "      <th>wants_extra_baggage</th>\n",
       "      <td>0.131922</td>\n",
       "      <td>0.016768</td>\n",
       "      <td>0.284546</td>\n",
       "      <td>-0.010128</td>\n",
       "      <td>0.017855</td>\n",
       "      <td>0.057695</td>\n",
       "      <td>1.000000</td>\n",
       "      <td>0.207669</td>\n",
       "      <td>0.216470</td>\n",
       "      <td>0.062105</td>\n",
       "      <td>...</td>\n",
       "      <td>0.003719</td>\n",
       "      <td>-0.008333</td>\n",
       "      <td>0.002746</td>\n",
       "      <td>0.004651</td>\n",
       "      <td>0.003393</td>\n",
       "      <td>0.054254</td>\n",
       "      <td>-0.054254</td>\n",
       "      <td>0.011855</td>\n",
       "      <td>0.007847</td>\n",
       "      <td>-0.012606</td>\n",
       "    </tr>\n",
       "    <tr>\n",
       "      <th>wants_preferred_seat</th>\n",
       "      <td>0.047646</td>\n",
       "      <td>0.008763</td>\n",
       "      <td>0.025141</td>\n",
       "      <td>0.009928</td>\n",
       "      <td>-0.001854</td>\n",
       "      <td>0.076618</td>\n",
       "      <td>0.207669</td>\n",
       "      <td>1.000000</td>\n",
       "      <td>0.315088</td>\n",
       "      <td>0.093661</td>\n",
       "      <td>...</td>\n",
       "      <td>0.008203</td>\n",
       "      <td>0.007357</td>\n",
       "      <td>-0.009310</td>\n",
       "      <td>-0.011850</td>\n",
       "      <td>0.003902</td>\n",
       "      <td>-0.032943</td>\n",
       "      <td>0.032943</td>\n",
       "      <td>-0.000407</td>\n",
       "      <td>-0.007953</td>\n",
       "      <td>0.007181</td>\n",
       "    </tr>\n",
       "    <tr>\n",
       "      <th>wants_in_flight_meals</th>\n",
       "      <td>0.020788</td>\n",
       "      <td>-0.000309</td>\n",
       "      <td>0.128857</td>\n",
       "      <td>0.012159</td>\n",
       "      <td>0.005332</td>\n",
       "      <td>0.111667</td>\n",
       "      <td>0.216470</td>\n",
       "      <td>0.315088</td>\n",
       "      <td>1.000000</td>\n",
       "      <td>0.148469</td>\n",
       "      <td>...</td>\n",
       "      <td>0.004095</td>\n",
       "      <td>0.002698</td>\n",
       "      <td>0.003856</td>\n",
       "      <td>-0.008351</td>\n",
       "      <td>-0.002229</td>\n",
       "      <td>0.022235</td>\n",
       "      <td>-0.022235</td>\n",
       "      <td>-0.002982</td>\n",
       "      <td>-0.014442</td>\n",
       "      <td>0.014120</td>\n",
       "    </tr>\n",
       "    <tr>\n",
       "      <th>flight_duration</th>\n",
       "      <td>-0.059025</td>\n",
       "      <td>0.078954</td>\n",
       "      <td>0.234792</td>\n",
       "      <td>-0.023922</td>\n",
       "      <td>0.214550</td>\n",
       "      <td>0.275182</td>\n",
       "      <td>0.062105</td>\n",
       "      <td>0.093661</td>\n",
       "      <td>0.148469</td>\n",
       "      <td>1.000000</td>\n",
       "      <td>...</td>\n",
       "      <td>0.004066</td>\n",
       "      <td>0.024004</td>\n",
       "      <td>-0.006385</td>\n",
       "      <td>-0.004473</td>\n",
       "      <td>-0.002791</td>\n",
       "      <td>0.042672</td>\n",
       "      <td>-0.042672</td>\n",
       "      <td>0.015446</td>\n",
       "      <td>0.038319</td>\n",
       "      <td>-0.041097</td>\n",
       "    </tr>\n",
       "    <tr>\n",
       "      <th>booking_complete</th>\n",
       "      <td>0.027619</td>\n",
       "      <td>-0.033870</td>\n",
       "      <td>-0.086417</td>\n",
       "      <td>0.013091</td>\n",
       "      <td>0.007093</td>\n",
       "      <td>-0.133312</td>\n",
       "      <td>0.068139</td>\n",
       "      <td>0.050116</td>\n",
       "      <td>0.026511</td>\n",
       "      <td>-0.097633</td>\n",
       "      <td>...</td>\n",
       "      <td>-0.001442</td>\n",
       "      <td>-0.008843</td>\n",
       "      <td>0.001840</td>\n",
       "      <td>-0.002890</td>\n",
       "      <td>0.016223</td>\n",
       "      <td>0.041060</td>\n",
       "      <td>-0.041060</td>\n",
       "      <td>-0.014394</td>\n",
       "      <td>-0.024240</td>\n",
       "      <td>0.028226</td>\n",
       "    </tr>\n",
       "    <tr>\n",
       "      <th>flight_day_Fri</th>\n",
       "      <td>-0.018515</td>\n",
       "      <td>-0.036273</td>\n",
       "      <td>0.008198</td>\n",
       "      <td>-0.023397</td>\n",
       "      <td>-0.004229</td>\n",
       "      <td>-0.006228</td>\n",
       "      <td>-0.000823</td>\n",
       "      <td>-0.004320</td>\n",
       "      <td>0.005097</td>\n",
       "      <td>-0.005087</td>\n",
       "      <td>...</td>\n",
       "      <td>-0.143410</td>\n",
       "      <td>-0.153584</td>\n",
       "      <td>-0.165122</td>\n",
       "      <td>-0.168361</td>\n",
       "      <td>-0.168374</td>\n",
       "      <td>-0.010062</td>\n",
       "      <td>0.010062</td>\n",
       "      <td>0.004029</td>\n",
       "      <td>-0.002890</td>\n",
       "      <td>0.000595</td>\n",
       "    </tr>\n",
       "    <tr>\n",
       "      <th>flight_day_Mon</th>\n",
       "      <td>0.004456</td>\n",
       "      <td>0.027966</td>\n",
       "      <td>-0.001100</td>\n",
       "      <td>-0.002522</td>\n",
       "      <td>-0.005361</td>\n",
       "      <td>0.000293</td>\n",
       "      <td>-0.005357</td>\n",
       "      <td>0.006893</td>\n",
       "      <td>-0.004135</td>\n",
       "      <td>-0.007534</td>\n",
       "      <td>...</td>\n",
       "      <td>-0.159481</td>\n",
       "      <td>-0.170796</td>\n",
       "      <td>-0.183627</td>\n",
       "      <td>-0.187229</td>\n",
       "      <td>-0.187244</td>\n",
       "      <td>0.013292</td>\n",
       "      <td>-0.013292</td>\n",
       "      <td>-0.002027</td>\n",
       "      <td>-0.004155</td>\n",
       "      <td>0.004626</td>\n",
       "    </tr>\n",
       "    <tr>\n",
       "      <th>flight_day_Sat</th>\n",
       "      <td>0.010084</td>\n",
       "      <td>0.009720</td>\n",
       "      <td>0.005241</td>\n",
       "      <td>-0.007482</td>\n",
       "      <td>-0.001161</td>\n",
       "      <td>-0.006480</td>\n",
       "      <td>0.003719</td>\n",
       "      <td>0.008203</td>\n",
       "      <td>0.004095</td>\n",
       "      <td>0.004066</td>\n",
       "      <td>...</td>\n",
       "      <td>1.000000</td>\n",
       "      <td>-0.140860</td>\n",
       "      <td>-0.151442</td>\n",
       "      <td>-0.154413</td>\n",
       "      <td>-0.154425</td>\n",
       "      <td>-0.029829</td>\n",
       "      <td>0.029829</td>\n",
       "      <td>0.001966</td>\n",
       "      <td>0.000723</td>\n",
       "      <td>-0.001583</td>\n",
       "    </tr>\n",
       "    <tr>\n",
       "      <th>flight_day_Sun</th>\n",
       "      <td>0.032267</td>\n",
       "      <td>0.097173</td>\n",
       "      <td>-0.005193</td>\n",
       "      <td>0.046721</td>\n",
       "      <td>0.014558</td>\n",
       "      <td>-0.009199</td>\n",
       "      <td>-0.008333</td>\n",
       "      <td>0.007357</td>\n",
       "      <td>0.002698</td>\n",
       "      <td>0.024004</td>\n",
       "      <td>...</td>\n",
       "      <td>-0.140860</td>\n",
       "      <td>1.000000</td>\n",
       "      <td>-0.162187</td>\n",
       "      <td>-0.165368</td>\n",
       "      <td>-0.165381</td>\n",
       "      <td>-0.028634</td>\n",
       "      <td>0.028634</td>\n",
       "      <td>-0.000253</td>\n",
       "      <td>0.000184</td>\n",
       "      <td>-0.000040</td>\n",
       "    </tr>\n",
       "    <tr>\n",
       "      <th>flight_day_Thu</th>\n",
       "      <td>-0.007318</td>\n",
       "      <td>-0.032106</td>\n",
       "      <td>0.001032</td>\n",
       "      <td>-0.004923</td>\n",
       "      <td>-0.009244</td>\n",
       "      <td>0.015709</td>\n",
       "      <td>0.002746</td>\n",
       "      <td>-0.009310</td>\n",
       "      <td>0.003856</td>\n",
       "      <td>-0.006385</td>\n",
       "      <td>...</td>\n",
       "      <td>-0.151442</td>\n",
       "      <td>-0.162187</td>\n",
       "      <td>1.000000</td>\n",
       "      <td>-0.177791</td>\n",
       "      <td>-0.177805</td>\n",
       "      <td>0.016236</td>\n",
       "      <td>-0.016236</td>\n",
       "      <td>0.004415</td>\n",
       "      <td>-0.006715</td>\n",
       "      <td>0.003768</td>\n",
       "    </tr>\n",
       "    <tr>\n",
       "      <th>flight_day_Tue</th>\n",
       "      <td>-0.013174</td>\n",
       "      <td>-0.017147</td>\n",
       "      <td>-0.005604</td>\n",
       "      <td>-0.003307</td>\n",
       "      <td>0.007695</td>\n",
       "      <td>-0.005634</td>\n",
       "      <td>0.004651</td>\n",
       "      <td>-0.011850</td>\n",
       "      <td>-0.008351</td>\n",
       "      <td>-0.004473</td>\n",
       "      <td>...</td>\n",
       "      <td>-0.154413</td>\n",
       "      <td>-0.165368</td>\n",
       "      <td>-0.177791</td>\n",
       "      <td>1.000000</td>\n",
       "      <td>-0.181293</td>\n",
       "      <td>0.015662</td>\n",
       "      <td>-0.015662</td>\n",
       "      <td>-0.002078</td>\n",
       "      <td>0.012417</td>\n",
       "      <td>-0.009903</td>\n",
       "    </tr>\n",
       "    <tr>\n",
       "      <th>flight_day_Wed</th>\n",
       "      <td>-0.005776</td>\n",
       "      <td>-0.044985</td>\n",
       "      <td>-0.001866</td>\n",
       "      <td>-0.004154</td>\n",
       "      <td>-0.001681</td>\n",
       "      <td>0.010121</td>\n",
       "      <td>0.003393</td>\n",
       "      <td>0.003902</td>\n",
       "      <td>-0.002229</td>\n",
       "      <td>-0.002791</td>\n",
       "      <td>...</td>\n",
       "      <td>-0.154425</td>\n",
       "      <td>-0.165381</td>\n",
       "      <td>-0.177805</td>\n",
       "      <td>-0.181293</td>\n",
       "      <td>1.000000</td>\n",
       "      <td>0.017614</td>\n",
       "      <td>-0.017614</td>\n",
       "      <td>-0.005540</td>\n",
       "      <td>0.000382</td>\n",
       "      <td>0.002335</td>\n",
       "    </tr>\n",
       "    <tr>\n",
       "      <th>sales_channel_Internet</th>\n",
       "      <td>0.003290</td>\n",
       "      <td>0.016415</td>\n",
       "      <td>0.082412</td>\n",
       "      <td>-0.022843</td>\n",
       "      <td>0.020356</td>\n",
       "      <td>0.059485</td>\n",
       "      <td>0.054254</td>\n",
       "      <td>-0.032943</td>\n",
       "      <td>0.022235</td>\n",
       "      <td>0.042672</td>\n",
       "      <td>...</td>\n",
       "      <td>-0.029829</td>\n",
       "      <td>-0.028634</td>\n",
       "      <td>0.016236</td>\n",
       "      <td>0.015662</td>\n",
       "      <td>0.017614</td>\n",
       "      <td>1.000000</td>\n",
       "      <td>-1.000000</td>\n",
       "      <td>0.011891</td>\n",
       "      <td>0.018415</td>\n",
       "      <td>-0.021905</td>\n",
       "    </tr>\n",
       "    <tr>\n",
       "      <th>sales_channel_Mobile</th>\n",
       "      <td>-0.003290</td>\n",
       "      <td>-0.016415</td>\n",
       "      <td>-0.082412</td>\n",
       "      <td>0.022843</td>\n",
       "      <td>-0.020356</td>\n",
       "      <td>-0.059485</td>\n",
       "      <td>-0.054254</td>\n",
       "      <td>0.032943</td>\n",
       "      <td>-0.022235</td>\n",
       "      <td>-0.042672</td>\n",
       "      <td>...</td>\n",
       "      <td>0.029829</td>\n",
       "      <td>0.028634</td>\n",
       "      <td>-0.016236</td>\n",
       "      <td>-0.015662</td>\n",
       "      <td>-0.017614</td>\n",
       "      <td>-1.000000</td>\n",
       "      <td>1.000000</td>\n",
       "      <td>-0.011891</td>\n",
       "      <td>-0.018415</td>\n",
       "      <td>0.021905</td>\n",
       "    </tr>\n",
       "    <tr>\n",
       "      <th>trip_type_CircleTrip</th>\n",
       "      <td>0.001922</td>\n",
       "      <td>0.009097</td>\n",
       "      <td>0.003994</td>\n",
       "      <td>-0.000121</td>\n",
       "      <td>-0.020797</td>\n",
       "      <td>0.017537</td>\n",
       "      <td>0.011855</td>\n",
       "      <td>-0.000407</td>\n",
       "      <td>-0.002982</td>\n",
       "      <td>0.015446</td>\n",
       "      <td>...</td>\n",
       "      <td>0.001966</td>\n",
       "      <td>-0.000253</td>\n",
       "      <td>0.004415</td>\n",
       "      <td>-0.002078</td>\n",
       "      <td>-0.005540</td>\n",
       "      <td>0.011891</td>\n",
       "      <td>-0.011891</td>\n",
       "      <td>1.000000</td>\n",
       "      <td>-0.004259</td>\n",
       "      <td>-0.478359</td>\n",
       "    </tr>\n",
       "    <tr>\n",
       "      <th>trip_type_OneWay</th>\n",
       "      <td>-0.004742</td>\n",
       "      <td>0.010200</td>\n",
       "      <td>-0.019126</td>\n",
       "      <td>0.004523</td>\n",
       "      <td>-0.014136</td>\n",
       "      <td>-0.006612</td>\n",
       "      <td>0.007847</td>\n",
       "      <td>-0.007953</td>\n",
       "      <td>-0.014442</td>\n",
       "      <td>0.038319</td>\n",
       "      <td>...</td>\n",
       "      <td>0.000723</td>\n",
       "      <td>0.000184</td>\n",
       "      <td>-0.006715</td>\n",
       "      <td>0.012417</td>\n",
       "      <td>0.000382</td>\n",
       "      <td>0.018415</td>\n",
       "      <td>-0.018415</td>\n",
       "      <td>-0.004259</td>\n",
       "      <td>1.000000</td>\n",
       "      <td>-0.876119</td>\n",
       "    </tr>\n",
       "    <tr>\n",
       "      <th>trip_type_RoundTrip</th>\n",
       "      <td>0.003238</td>\n",
       "      <td>-0.013343</td>\n",
       "      <td>0.014870</td>\n",
       "      <td>-0.003914</td>\n",
       "      <td>0.022440</td>\n",
       "      <td>-0.002648</td>\n",
       "      <td>-0.012606</td>\n",
       "      <td>0.007181</td>\n",
       "      <td>0.014120</td>\n",
       "      <td>-0.041097</td>\n",
       "      <td>...</td>\n",
       "      <td>-0.001583</td>\n",
       "      <td>-0.000040</td>\n",
       "      <td>0.003768</td>\n",
       "      <td>-0.009903</td>\n",
       "      <td>0.002335</td>\n",
       "      <td>-0.021905</td>\n",
       "      <td>0.021905</td>\n",
       "      <td>-0.478359</td>\n",
       "      <td>-0.876119</td>\n",
       "      <td>1.000000</td>\n",
       "    </tr>\n",
       "  </tbody>\n",
       "</table>\n",
       "<p>23 rows × 23 columns</p>\n",
       "</div>"
      ],
      "text/plain": [
       "                        num_passengers  purchase_lead  length_of_stay  \\\n",
       "num_passengers                1.000000       0.253983       -0.125389   \n",
       "purchase_lead                 0.253983       1.000000        0.024810   \n",
       "length_of_stay               -0.125389       0.024810        1.000000   \n",
       "flight_hour                   0.024562       0.043673       -0.047602   \n",
       "route                         0.005743       0.058186        0.021819   \n",
       "booking_origin               -0.071964      -0.025420        0.216945   \n",
       "wants_extra_baggage           0.131922       0.016768        0.284546   \n",
       "wants_preferred_seat          0.047646       0.008763        0.025141   \n",
       "wants_in_flight_meals         0.020788      -0.000309        0.128857   \n",
       "flight_duration              -0.059025       0.078954        0.234792   \n",
       "booking_complete              0.027619      -0.033870       -0.086417   \n",
       "flight_day_Fri               -0.018515      -0.036273        0.008198   \n",
       "flight_day_Mon                0.004456       0.027966       -0.001100   \n",
       "flight_day_Sat                0.010084       0.009720        0.005241   \n",
       "flight_day_Sun                0.032267       0.097173       -0.005193   \n",
       "flight_day_Thu               -0.007318      -0.032106        0.001032   \n",
       "flight_day_Tue               -0.013174      -0.017147       -0.005604   \n",
       "flight_day_Wed               -0.005776      -0.044985       -0.001866   \n",
       "sales_channel_Internet        0.003290       0.016415        0.082412   \n",
       "sales_channel_Mobile         -0.003290      -0.016415       -0.082412   \n",
       "trip_type_CircleTrip          0.001922       0.009097        0.003994   \n",
       "trip_type_OneWay             -0.004742       0.010200       -0.019126   \n",
       "trip_type_RoundTrip           0.003238      -0.013343        0.014870   \n",
       "\n",
       "                        flight_hour     route  booking_origin  \\\n",
       "num_passengers             0.024562  0.005743       -0.071964   \n",
       "purchase_lead              0.043673  0.058186       -0.025420   \n",
       "length_of_stay            -0.047602  0.021819        0.216945   \n",
       "flight_hour                1.000000  0.002255       -0.082190   \n",
       "route                      0.002255  1.000000        0.064670   \n",
       "booking_origin            -0.082190  0.064670        1.000000   \n",
       "wants_extra_baggage       -0.010128  0.017855        0.057695   \n",
       "wants_preferred_seat       0.009928 -0.001854        0.076618   \n",
       "wants_in_flight_meals      0.012159  0.005332        0.111667   \n",
       "flight_duration           -0.023922  0.214550        0.275182   \n",
       "booking_complete           0.013091  0.007093       -0.133312   \n",
       "flight_day_Fri            -0.023397 -0.004229       -0.006228   \n",
       "flight_day_Mon            -0.002522 -0.005361        0.000293   \n",
       "flight_day_Sat            -0.007482 -0.001161       -0.006480   \n",
       "flight_day_Sun             0.046721  0.014558       -0.009199   \n",
       "flight_day_Thu            -0.004923 -0.009244        0.015709   \n",
       "flight_day_Tue            -0.003307  0.007695       -0.005634   \n",
       "flight_day_Wed            -0.004154 -0.001681        0.010121   \n",
       "sales_channel_Internet    -0.022843  0.020356        0.059485   \n",
       "sales_channel_Mobile       0.022843 -0.020356       -0.059485   \n",
       "trip_type_CircleTrip      -0.000121 -0.020797        0.017537   \n",
       "trip_type_OneWay           0.004523 -0.014136       -0.006612   \n",
       "trip_type_RoundTrip       -0.003914  0.022440       -0.002648   \n",
       "\n",
       "                        wants_extra_baggage  wants_preferred_seat  \\\n",
       "num_passengers                     0.131922              0.047646   \n",
       "purchase_lead                      0.016768              0.008763   \n",
       "length_of_stay                     0.284546              0.025141   \n",
       "flight_hour                       -0.010128              0.009928   \n",
       "route                              0.017855             -0.001854   \n",
       "booking_origin                     0.057695              0.076618   \n",
       "wants_extra_baggage                1.000000              0.207669   \n",
       "wants_preferred_seat               0.207669              1.000000   \n",
       "wants_in_flight_meals              0.216470              0.315088   \n",
       "flight_duration                    0.062105              0.093661   \n",
       "booking_complete                   0.068139              0.050116   \n",
       "flight_day_Fri                    -0.000823             -0.004320   \n",
       "flight_day_Mon                    -0.005357              0.006893   \n",
       "flight_day_Sat                     0.003719              0.008203   \n",
       "flight_day_Sun                    -0.008333              0.007357   \n",
       "flight_day_Thu                     0.002746             -0.009310   \n",
       "flight_day_Tue                     0.004651             -0.011850   \n",
       "flight_day_Wed                     0.003393              0.003902   \n",
       "sales_channel_Internet             0.054254             -0.032943   \n",
       "sales_channel_Mobile              -0.054254              0.032943   \n",
       "trip_type_CircleTrip               0.011855             -0.000407   \n",
       "trip_type_OneWay                   0.007847             -0.007953   \n",
       "trip_type_RoundTrip               -0.012606              0.007181   \n",
       "\n",
       "                        wants_in_flight_meals  flight_duration  ...  \\\n",
       "num_passengers                       0.020788        -0.059025  ...   \n",
       "purchase_lead                       -0.000309         0.078954  ...   \n",
       "length_of_stay                       0.128857         0.234792  ...   \n",
       "flight_hour                          0.012159        -0.023922  ...   \n",
       "route                                0.005332         0.214550  ...   \n",
       "booking_origin                       0.111667         0.275182  ...   \n",
       "wants_extra_baggage                  0.216470         0.062105  ...   \n",
       "wants_preferred_seat                 0.315088         0.093661  ...   \n",
       "wants_in_flight_meals                1.000000         0.148469  ...   \n",
       "flight_duration                      0.148469         1.000000  ...   \n",
       "booking_complete                     0.026511        -0.097633  ...   \n",
       "flight_day_Fri                       0.005097        -0.005087  ...   \n",
       "flight_day_Mon                      -0.004135        -0.007534  ...   \n",
       "flight_day_Sat                       0.004095         0.004066  ...   \n",
       "flight_day_Sun                       0.002698         0.024004  ...   \n",
       "flight_day_Thu                       0.003856        -0.006385  ...   \n",
       "flight_day_Tue                      -0.008351        -0.004473  ...   \n",
       "flight_day_Wed                      -0.002229        -0.002791  ...   \n",
       "sales_channel_Internet               0.022235         0.042672  ...   \n",
       "sales_channel_Mobile                -0.022235        -0.042672  ...   \n",
       "trip_type_CircleTrip                -0.002982         0.015446  ...   \n",
       "trip_type_OneWay                    -0.014442         0.038319  ...   \n",
       "trip_type_RoundTrip                  0.014120        -0.041097  ...   \n",
       "\n",
       "                        flight_day_Sat  flight_day_Sun  flight_day_Thu  \\\n",
       "num_passengers                0.010084        0.032267       -0.007318   \n",
       "purchase_lead                 0.009720        0.097173       -0.032106   \n",
       "length_of_stay                0.005241       -0.005193        0.001032   \n",
       "flight_hour                  -0.007482        0.046721       -0.004923   \n",
       "route                        -0.001161        0.014558       -0.009244   \n",
       "booking_origin               -0.006480       -0.009199        0.015709   \n",
       "wants_extra_baggage           0.003719       -0.008333        0.002746   \n",
       "wants_preferred_seat          0.008203        0.007357       -0.009310   \n",
       "wants_in_flight_meals         0.004095        0.002698        0.003856   \n",
       "flight_duration               0.004066        0.024004       -0.006385   \n",
       "booking_complete             -0.001442       -0.008843        0.001840   \n",
       "flight_day_Fri               -0.143410       -0.153584       -0.165122   \n",
       "flight_day_Mon               -0.159481       -0.170796       -0.183627   \n",
       "flight_day_Sat                1.000000       -0.140860       -0.151442   \n",
       "flight_day_Sun               -0.140860        1.000000       -0.162187   \n",
       "flight_day_Thu               -0.151442       -0.162187        1.000000   \n",
       "flight_day_Tue               -0.154413       -0.165368       -0.177791   \n",
       "flight_day_Wed               -0.154425       -0.165381       -0.177805   \n",
       "sales_channel_Internet       -0.029829       -0.028634        0.016236   \n",
       "sales_channel_Mobile          0.029829        0.028634       -0.016236   \n",
       "trip_type_CircleTrip          0.001966       -0.000253        0.004415   \n",
       "trip_type_OneWay              0.000723        0.000184       -0.006715   \n",
       "trip_type_RoundTrip          -0.001583       -0.000040        0.003768   \n",
       "\n",
       "                        flight_day_Tue  flight_day_Wed  \\\n",
       "num_passengers               -0.013174       -0.005776   \n",
       "purchase_lead                -0.017147       -0.044985   \n",
       "length_of_stay               -0.005604       -0.001866   \n",
       "flight_hour                  -0.003307       -0.004154   \n",
       "route                         0.007695       -0.001681   \n",
       "booking_origin               -0.005634        0.010121   \n",
       "wants_extra_baggage           0.004651        0.003393   \n",
       "wants_preferred_seat         -0.011850        0.003902   \n",
       "wants_in_flight_meals        -0.008351       -0.002229   \n",
       "flight_duration              -0.004473       -0.002791   \n",
       "booking_complete             -0.002890        0.016223   \n",
       "flight_day_Fri               -0.168361       -0.168374   \n",
       "flight_day_Mon               -0.187229       -0.187244   \n",
       "flight_day_Sat               -0.154413       -0.154425   \n",
       "flight_day_Sun               -0.165368       -0.165381   \n",
       "flight_day_Thu               -0.177791       -0.177805   \n",
       "flight_day_Tue                1.000000       -0.181293   \n",
       "flight_day_Wed               -0.181293        1.000000   \n",
       "sales_channel_Internet        0.015662        0.017614   \n",
       "sales_channel_Mobile         -0.015662       -0.017614   \n",
       "trip_type_CircleTrip         -0.002078       -0.005540   \n",
       "trip_type_OneWay              0.012417        0.000382   \n",
       "trip_type_RoundTrip          -0.009903        0.002335   \n",
       "\n",
       "                        sales_channel_Internet  sales_channel_Mobile  \\\n",
       "num_passengers                        0.003290             -0.003290   \n",
       "purchase_lead                         0.016415             -0.016415   \n",
       "length_of_stay                        0.082412             -0.082412   \n",
       "flight_hour                          -0.022843              0.022843   \n",
       "route                                 0.020356             -0.020356   \n",
       "booking_origin                        0.059485             -0.059485   \n",
       "wants_extra_baggage                   0.054254             -0.054254   \n",
       "wants_preferred_seat                 -0.032943              0.032943   \n",
       "wants_in_flight_meals                 0.022235             -0.022235   \n",
       "flight_duration                       0.042672             -0.042672   \n",
       "booking_complete                      0.041060             -0.041060   \n",
       "flight_day_Fri                       -0.010062              0.010062   \n",
       "flight_day_Mon                        0.013292             -0.013292   \n",
       "flight_day_Sat                       -0.029829              0.029829   \n",
       "flight_day_Sun                       -0.028634              0.028634   \n",
       "flight_day_Thu                        0.016236             -0.016236   \n",
       "flight_day_Tue                        0.015662             -0.015662   \n",
       "flight_day_Wed                        0.017614             -0.017614   \n",
       "sales_channel_Internet                1.000000             -1.000000   \n",
       "sales_channel_Mobile                 -1.000000              1.000000   \n",
       "trip_type_CircleTrip                  0.011891             -0.011891   \n",
       "trip_type_OneWay                      0.018415             -0.018415   \n",
       "trip_type_RoundTrip                  -0.021905              0.021905   \n",
       "\n",
       "                        trip_type_CircleTrip  trip_type_OneWay  \\\n",
       "num_passengers                      0.001922         -0.004742   \n",
       "purchase_lead                       0.009097          0.010200   \n",
       "length_of_stay                      0.003994         -0.019126   \n",
       "flight_hour                        -0.000121          0.004523   \n",
       "route                              -0.020797         -0.014136   \n",
       "booking_origin                      0.017537         -0.006612   \n",
       "wants_extra_baggage                 0.011855          0.007847   \n",
       "wants_preferred_seat               -0.000407         -0.007953   \n",
       "wants_in_flight_meals              -0.002982         -0.014442   \n",
       "flight_duration                     0.015446          0.038319   \n",
       "booking_complete                   -0.014394         -0.024240   \n",
       "flight_day_Fri                      0.004029         -0.002890   \n",
       "flight_day_Mon                     -0.002027         -0.004155   \n",
       "flight_day_Sat                      0.001966          0.000723   \n",
       "flight_day_Sun                     -0.000253          0.000184   \n",
       "flight_day_Thu                      0.004415         -0.006715   \n",
       "flight_day_Tue                     -0.002078          0.012417   \n",
       "flight_day_Wed                     -0.005540          0.000382   \n",
       "sales_channel_Internet              0.011891          0.018415   \n",
       "sales_channel_Mobile               -0.011891         -0.018415   \n",
       "trip_type_CircleTrip                1.000000         -0.004259   \n",
       "trip_type_OneWay                   -0.004259          1.000000   \n",
       "trip_type_RoundTrip                -0.478359         -0.876119   \n",
       "\n",
       "                        trip_type_RoundTrip  \n",
       "num_passengers                     0.003238  \n",
       "purchase_lead                     -0.013343  \n",
       "length_of_stay                     0.014870  \n",
       "flight_hour                       -0.003914  \n",
       "route                              0.022440  \n",
       "booking_origin                    -0.002648  \n",
       "wants_extra_baggage               -0.012606  \n",
       "wants_preferred_seat               0.007181  \n",
       "wants_in_flight_meals              0.014120  \n",
       "flight_duration                   -0.041097  \n",
       "booking_complete                   0.028226  \n",
       "flight_day_Fri                     0.000595  \n",
       "flight_day_Mon                     0.004626  \n",
       "flight_day_Sat                    -0.001583  \n",
       "flight_day_Sun                    -0.000040  \n",
       "flight_day_Thu                     0.003768  \n",
       "flight_day_Tue                    -0.009903  \n",
       "flight_day_Wed                     0.002335  \n",
       "sales_channel_Internet            -0.021905  \n",
       "sales_channel_Mobile               0.021905  \n",
       "trip_type_CircleTrip              -0.478359  \n",
       "trip_type_OneWay                  -0.876119  \n",
       "trip_type_RoundTrip                1.000000  \n",
       "\n",
       "[23 rows x 23 columns]"
      ]
     },
     "execution_count": 48,
     "metadata": {},
     "output_type": "execute_result"
    }
   ],
   "source": [
    "#checking correlation\n",
    "corr = df.corr(method='spearman')\n",
    "corr"
   ]
  },
  {
   "cell_type": "code",
   "execution_count": 49,
   "metadata": {},
   "outputs": [
    {
     "data": {
      "text/plain": [
       "<Axes: >"
      ]
     },
     "execution_count": 49,
     "metadata": {},
     "output_type": "execute_result"
    },
    {
     "data": {
      "image/png": "[encoded data removed]",
      "text/plain": [
       "<Figure size 2000x1000 with 2 Axes>"
      ]
     },
     "metadata": {},
     "output_type": "display_data"
    }
   ],
   "source": [
    "plt.figure(figsize=(20,10))\n",
    "sns.heatmap(corr)"
   ]
  },
  {
   "cell_type": "code",
   "execution_count": 50,
   "metadata": {},
   "outputs": [
    {
     "data": {
      "text/plain": [
       "booking_complete          1.000000\n",
       "booking_origin            0.133312\n",
       "flight_duration           0.097633\n",
       "length_of_stay            0.086417\n",
       "wants_extra_baggage       0.068139\n",
       "wants_preferred_seat      0.050116\n",
       "sales_channel_Mobile      0.041060\n",
       "sales_channel_Internet    0.041060\n",
       "purchase_lead             0.033870\n",
       "trip_type_RoundTrip       0.028226\n",
       "num_passengers            0.027619\n",
       "wants_in_flight_meals     0.026511\n",
       "trip_type_OneWay          0.024240\n",
       "flight_day_Wed            0.016223\n",
       "trip_type_CircleTrip      0.014394\n",
       "flight_hour               0.013091\n",
       "flight_day_Sun            0.008843\n",
       "route                     0.007093\n",
       "flight_day_Fri            0.004621\n",
       "flight_day_Tue            0.002890\n",
       "flight_day_Thu            0.001840\n",
       "flight_day_Sat            0.001442\n",
       "flight_day_Mon            0.001177\n",
       "Name: booking_complete, dtype: float64"
      ]
     },
     "execution_count": 50,
     "metadata": {},
     "output_type": "execute_result"
    }
   ],
   "source": [
    "#Correlated freatures w.r.t booking_complete in descending order (absolute corr values are considerd)\n",
    "corr['booking_complete'].abs().sort_values(ascending=False)"
   ]
  },
  {
   "cell_type": "code",
   "execution_count": 51,
   "metadata": {},
   "outputs": [
    {
     "data": {
      "text/plain": [
       "booking_origin_1          0.026978\n",
       "booking_origin_5          0.020959\n",
       "flight_duration           0.017598\n",
       "length_of_stay            0.009444\n",
       "booking_origin_4          0.008983\n",
       "booking_origin_6          0.008893\n",
       "wants_extra_baggage       0.008811\n",
       "trip_type_RoundTrip       0.008568\n",
       "route_4                   0.008063\n",
       "sales_channel_Internet    0.006975\n",
       "route_3                   0.006959\n",
       "route_8                   0.006659\n",
       "route_7                   0.006478\n",
       "route_9                   0.006359\n",
       "wants_in_flight_meals     0.006068\n",
       "route_1                   0.005398\n",
       "wants_preferred_seat      0.004043\n",
       "route_6                   0.003923\n",
       "booking_origin_3          0.003484\n",
       "sales_channel_Mobile      0.003124\n",
       "purchase_lead             0.002724\n",
       "num_passengers            0.002581\n",
       "flight_day_Mon            0.002569\n",
       "route_5                   0.002408\n",
       "route_0                   0.002266\n",
       "flight_hour               0.001404\n",
       "flight_day_Wed            0.000992\n",
       "flight_day_Sun            0.000951\n",
       "trip_type_OneWay          0.000729\n",
       "route_2                   0.000705\n",
       "trip_type_CircleTrip      0.000363\n",
       "booking_origin_0          0.000000\n",
       "flight_day_Fri            0.000000\n",
       "flight_day_Thu            0.000000\n",
       "flight_day_Tue            0.000000\n",
       "booking_origin_2          0.000000\n",
       "flight_day_Sat            0.000000\n",
       "Name: MI Scores, dtype: float64"
      ]
     },
     "execution_count": 51,
     "metadata": {},
     "output_type": "execute_result"
    }
   ],
   "source": [
    "#Mutual Information of variables w.r.t booking_complete\n",
    "mi_scores = mutual_info_classif(features, df['booking_complete'])\n",
    "mi_scores = pd.Series(mi_scores, name=\"MI Scores\", index=features.columns)\n",
    "mi_scores = mi_scores.sort_values(ascending=False)\n",
    "\n",
    "mi_scores"
   ]
  },
  {
   "cell_type": "markdown",
   "metadata": {},
   "source": [
    "Comparing the cofficient sores and mutual information sores the best features could be:\n",
    "\n",
    "`route`,    \n",
    "`booking_origin`          \n",
    "`flight_duration`          \n",
    "`length_of_stay`           \n",
    "`sales_channel`               \n",
    "`trip_type`                \n",
    "`wants_preferred_seat`    \n",
    "`purchase_lead`"
   ]
  },
  {
   "cell_type": "markdown",
   "metadata": {},
   "source": [
    "### Partitioning the data"
   ]
  },
  {
   "cell_type": "code",
   "execution_count": 52,
   "metadata": {},
   "outputs": [],
   "source": [
    "X = df.drop('booking_complete', axis=1)\n",
    "y = df['booking_complete']"
   ]
  },
  {
   "cell_type": "code",
   "execution_count": 53,
   "metadata": {},
   "outputs": [],
   "source": [
    "X_train, X_test, y_train, y_test = train_test_split(X, y, stratify=y, test_size = 0.3, random_state = 42)"
   ]
  },
  {
   "cell_type": "code",
   "execution_count": 54,
   "metadata": {},
   "outputs": [],
   "source": [
    "#feature selection columns to remove\n",
    "columns_to_remove = ['wants_in_flight_meals','num_passengers','wants_extra_baggage']\n",
    "\n",
    "#wants_extra_baggage and length of stay, as well as num_passengers and purchase_lead are highly correlated"
   ]
  },
  {
   "cell_type": "code",
   "execution_count": 55,
   "metadata": {},
   "outputs": [],
   "source": [
    "#Function to remove unwanted columns\n",
    "def feature_selection(X, columns_to_remove):\n",
    "    return X.drop(columns=columns_to_remove, axis=1)\n"
   ]
  },
  {
   "cell_type": "code",
   "execution_count": 56,
   "metadata": {},
   "outputs": [],
   "source": [
    "#Custom transformer using Function Transformer\n",
    "feature_selection_transformer = FunctionTransformer(func=feature_selection, kw_args={\"columns_to_remove\": columns_to_remove})"
   ]
  },
  {
   "cell_type": "markdown",
   "metadata": {},
   "source": [
    "### Resampling Data"
   ]
  },
  {
   "cell_type": "markdown",
   "metadata": {},
   "source": [
    "Resampling the train data using `SMOTE-Tomek` link technique, it is ideal in this situation because this technique will combine over and undersampling as well as clean the resampled data using tomek link"
   ]
  },
  {
   "cell_type": "code",
   "execution_count": 57,
   "metadata": {},
   "outputs": [],
   "source": [
    "#Function for resampling the data\n",
    "def resample_data(X_train, y_train, min_samples_threshold=100):\n",
    "    distinct_origin = X_train['booking_origin'].unique()\n",
    "    resampled_X_train = []\n",
    "    resampled_y_train = []\n",
    "\n",
    "    for origin in distinct_origin:\n",
    "        X_origin = X_train[X_train['booking_origin'] == origin]\n",
    "        y_origin = y_train[X_train['booking_origin'] == origin]\n",
    "\n",
    "        if len(y_origin) < min_samples_threshold:\n",
    "            resampled_X_train.append(X_origin)\n",
    "            resampled_y_train.append(y_origin)\n",
    "        else:\n",
    "            smt = SMOTETomek(sampling_strategy='auto', random_state=42)\n",
    "            X_resampled, y_resampled = smt.fit_resample(X_origin, y_origin)\n",
    "            resampled_X_train.append(X_resampled)\n",
    "            resampled_y_train.append(y_resampled)\n",
    "\n",
    "    X_train_resampled = pd.concat(resampled_X_train, axis=0)\n",
    "    y_train_resampled = pd.concat(resampled_y_train, axis=0)\n",
    "\n",
    "    return X_train_resampled, y_train_resampled\n"
   ]
  },
  {
   "cell_type": "code",
   "execution_count": 58,
   "metadata": {},
   "outputs": [],
   "source": [
    "#Applying resampling on the data\n",
    "X_train_resampled, y_train_resampled = resample_data(X_train, y_train)"
   ]
  },
  {
   "cell_type": "code",
   "execution_count": 29,
   "metadata": {},
   "outputs": [],
   "source": [
    "smt = SMOTETomek(sampling_strategy='auto', random_state=42)\n",
    "#Applying resampling on the data\n",
    "X_train_resampled, y_train_resampled = smt.fit_resample(X_train, y_train)"
   ]
  },
  {
   "cell_type": "code",
   "execution_count": 59,
   "metadata": {},
   "outputs": [
    {
     "data": {
      "text/plain": [
       "0    29765\n",
       "1     5235\n",
       "Name: booking_complete, dtype: int64"
      ]
     },
     "execution_count": 59,
     "metadata": {},
     "output_type": "execute_result"
    }
   ],
   "source": [
    "#Before resampling\n",
    "y_train.value_counts()"
   ]
  },
  {
   "cell_type": "code",
   "execution_count": 60,
   "metadata": {},
   "outputs": [
    {
     "data": {
      "text/plain": [
       "0    28535\n",
       "1    27939\n",
       "Name: booking_complete, dtype: int64"
      ]
     },
     "execution_count": 60,
     "metadata": {},
     "output_type": "execute_result"
    }
   ],
   "source": [
    "#After resampling\n",
    "y_train_resampled.value_counts()"
   ]
  },
  {
   "cell_type": "markdown",
   "metadata": {},
   "source": [
    "### Model Building"
   ]
  },
  {
   "cell_type": "markdown",
   "metadata": {},
   "source": [
    "#### Random Forest Classifier"
   ]
  },
  {
   "cell_type": "markdown",
   "metadata": {},
   "source": [
    "##### Without feature selection"
   ]
  },
  {
   "cell_type": "code",
   "execution_count": 61,
   "metadata": {},
   "outputs": [],
   "source": [
    "#Model pipeline for Random Forest without feature selection\n",
    "rf_model = RandomForestClassifier(random_state=32)\n",
    "model_pipeline_rf = ImbalancedPipeline([\n",
    "    ('Scaling', StandardScaler()),\n",
    "    ('model', rf_model)\n",
    "])"
   ]
  },
  {
   "cell_type": "code",
   "execution_count": 62,
   "metadata": {},
   "outputs": [],
   "source": [
    "target_names=['Uncompleted_Booking','Completed_Booking']"
   ]
  },
  {
   "cell_type": "code",
   "execution_count": 63,
   "metadata": {},
   "outputs": [],
   "source": [
    "#Building and evaluating Random Forest model\n",
    "model_pipeline_rf.fit(X_train_resampled, y_train_resampled)\n",
    "y_pred_rf = model_pipeline_rf.predict(X_test)\n",
    "report_rf = classification_report(y_test, y_pred_rf, target_names=target_names)"
   ]
  },
  {
   "cell_type": "code",
   "execution_count": 64,
   "metadata": {},
   "outputs": [
    {
     "name": "stdout",
     "output_type": "stream",
     "text": [
      "                     precision    recall  f1-score   support\n",
      "\n",
      "Uncompleted_Booking       0.86      0.98      0.92     12757\n",
      "  Completed_Booking       0.44      0.08      0.13      2243\n",
      "\n",
      "           accuracy                           0.85     15000\n",
      "          macro avg       0.65      0.53      0.53     15000\n",
      "       weighted avg       0.80      0.85      0.80     15000\n",
      "\n"
     ]
    }
   ],
   "source": [
    "print(report_rf)"
   ]
  },
  {
   "cell_type": "markdown",
   "metadata": {},
   "source": [
    "##### With feature selection"
   ]
  },
  {
   "cell_type": "code",
   "execution_count": 65,
   "metadata": {},
   "outputs": [],
   "source": [
    "#Model pipeline for Random Forest with feature selection\n",
    "rf_model = RandomForestClassifier(random_state=32)\n",
    "model_pipeline_rf_fs = ImbalancedPipeline([\n",
    "    ('feature_selection', feature_selection_transformer),\n",
    "    ('Scaling', StandardScaler()),\n",
    "    ('model', rf_model)\n",
    "])"
   ]
  },
  {
   "cell_type": "code",
   "execution_count": 66,
   "metadata": {},
   "outputs": [],
   "source": [
    "#Building and evaluating Random Forest model\n",
    "model_pipeline_rf_fs.fit(X_train_resampled, y_train_resampled)\n",
    "y_pred_rf_fs = model_pipeline_rf_fs.predict(X_test)\n",
    "report_rf_fs = classification_report(y_test, y_pred_rf_fs, target_names=target_names)"
   ]
  },
  {
   "cell_type": "code",
   "execution_count": 67,
   "metadata": {},
   "outputs": [
    {
     "name": "stdout",
     "output_type": "stream",
     "text": [
      "                     precision    recall  f1-score   support\n",
      "\n",
      "Uncompleted_Booking       0.86      0.97      0.91     12757\n",
      "  Completed_Booking       0.41      0.10      0.17      2243\n",
      "\n",
      "           accuracy                           0.84     15000\n",
      "          macro avg       0.64      0.54      0.54     15000\n",
      "       weighted avg       0.79      0.84      0.80     15000\n",
      "\n"
     ]
    }
   ],
   "source": [
    "print(report_rf_fs)"
   ]
  },
  {
   "cell_type": "markdown",
   "metadata": {},
   "source": [
    "#### XGBoost Classifier"
   ]
  },
  {
   "cell_type": "markdown",
   "metadata": {},
   "source": [
    "##### Without feature selection"
   ]
  },
  {
   "cell_type": "code",
   "execution_count": 68,
   "metadata": {},
   "outputs": [],
   "source": [
    "#Model pipeline for XGBoost without feature selection\n",
    "xgb_model = XGBClassifier()\n",
    "model_pipeline_xgb = ImbalancedPipeline([\n",
    "    ('Scaling', StandardScaler()),\n",
    "    ('model', xgb_model)\n",
    "])\n"
   ]
  },
  {
   "cell_type": "code",
   "execution_count": 69,
   "metadata": {},
   "outputs": [],
   "source": [
    "#Building and evaluating XGBoost models\n",
    "model_pipeline_xgb.fit(X_train_resampled, y_train_resampled)\n",
    "y_pred_xgb = model_pipeline_xgb.predict(X_test)\n",
    "report_xgb = classification_report(y_test, y_pred_xgb, target_names=target_names)"
   ]
  },
  {
   "cell_type": "code",
   "execution_count": 70,
   "metadata": {},
   "outputs": [
    {
     "name": "stdout",
     "output_type": "stream",
     "text": [
      "                     precision    recall  f1-score   support\n",
      "\n",
      "Uncompleted_Booking       0.87      0.96      0.91     12757\n",
      "  Completed_Booking       0.40      0.15      0.22      2243\n",
      "\n",
      "           accuracy                           0.84     15000\n",
      "          macro avg       0.64      0.56      0.57     15000\n",
      "       weighted avg       0.80      0.84      0.81     15000\n",
      "\n"
     ]
    }
   ],
   "source": [
    "print(report_xgb)"
   ]
  },
  {
   "cell_type": "markdown",
   "metadata": {},
   "source": [
    "##### With feature selection"
   ]
  },
  {
   "cell_type": "code",
   "execution_count": 71,
   "metadata": {},
   "outputs": [],
   "source": [
    "#Model pipeline for XGBoost with feature selection\n",
    "xgb_model_fs = XGBClassifier()\n",
    "model_pipeline_xgb_fs = ImbalancedPipeline([\n",
    "    ('feature_selection', feature_selection_transformer),\n",
    "    ('Scaling', StandardScaler()),\n",
    "    ('model', xgb_model_fs)\n",
    "])"
   ]
  },
  {
   "cell_type": "code",
   "execution_count": 72,
   "metadata": {},
   "outputs": [],
   "source": [
    "#Building and evaluating XGBoost models\n",
    "model_pipeline_xgb_fs.fit(X_train_resampled, y_train_resampled)\n",
    "y_pred_xgb_fs = model_pipeline_xgb_fs.predict(X_test)\n",
    "report_xgb_fs = classification_report(y_test, y_pred_xgb_fs, target_names=target_names)"
   ]
  },
  {
   "cell_type": "code",
   "execution_count": 73,
   "metadata": {},
   "outputs": [
    {
     "name": "stdout",
     "output_type": "stream",
     "text": [
      "                     precision    recall  f1-score   support\n",
      "\n",
      "Uncompleted_Booking       0.86      0.96      0.91     12757\n",
      "  Completed_Booking       0.39      0.14      0.20      2243\n",
      "\n",
      "           accuracy                           0.84     15000\n",
      "          macro avg       0.63      0.55      0.56     15000\n",
      "       weighted avg       0.79      0.84      0.80     15000\n",
      "\n"
     ]
    }
   ],
   "source": [
    "print(report_xgb_fs)"
   ]
  },
  {
   "cell_type": "markdown",
   "metadata": {},
   "source": [
    "#### AdaBoost"
   ]
  },
  {
   "cell_type": "markdown",
   "metadata": {},
   "source": [
    "##### Without feature selection"
   ]
  },
  {
   "cell_type": "code",
   "execution_count": 126,
   "metadata": {},
   "outputs": [],
   "source": [
    "#Model pipeline for AdaBoost with feature selection\n",
    "ada_model = AdaBoostClassifier()\n",
    "model_pipeline_ada = ImbalancedPipeline([\n",
    "    ('Scaling', StandardScaler()),\n",
    "    ('model', ada_model)\n",
    "])"
   ]
  },
  {
   "cell_type": "code",
   "execution_count": 127,
   "metadata": {},
   "outputs": [],
   "source": [
    "# Build and evaluate AdaBoost models\n",
    "model_pipeline_ada.fit(X_train_resampled, y_train_resampled)\n",
    "y_pred_ada = model_pipeline_ada.predict(X_test)\n",
    "report_ada = classification_report(y_test, y_pred_ada, target_names=target_names)"
   ]
  },
  {
   "cell_type": "code",
   "execution_count": 128,
   "metadata": {},
   "outputs": [
    {
     "name": "stdout",
     "output_type": "stream",
     "text": [
      "                     precision    recall  f1-score   support\n",
      "\n",
      "  Completed_Booking       0.87      0.93      0.90     12757\n",
      "Uncompleted_Booking       0.37      0.23      0.29      2243\n",
      "\n",
      "           accuracy                           0.83     15000\n",
      "          macro avg       0.62      0.58      0.59     15000\n",
      "       weighted avg       0.80      0.83      0.81     15000\n",
      "\n"
     ]
    }
   ],
   "source": [
    "print(report_ada)"
   ]
  },
  {
   "cell_type": "markdown",
   "metadata": {},
   "source": [
    "##### With feature selection"
   ]
  },
  {
   "cell_type": "code",
   "execution_count": 129,
   "metadata": {},
   "outputs": [],
   "source": [
    "# Define a model pipeline for AdaBoost with feature selection\n",
    "ada_model_fs = AdaBoostClassifier()\n",
    "model_pipeline_ada_fs = ImbalancedPipeline([\n",
    "    ('feature_selection', feature_selection_transformer),\n",
    "    ('Scaling', StandardScaler()),\n",
    "    ('model', ada_model_fs)\n",
    "])"
   ]
  },
  {
   "cell_type": "code",
   "execution_count": 130,
   "metadata": {},
   "outputs": [],
   "source": [
    "model_pipeline_ada_fs.fit(X_train_resampled, y_train_resampled)\n",
    "y_pred_ada_fs = model_pipeline_ada_fs.predict(X_test)\n",
    "report_ada_fs = classification_report(y_test, y_pred_ada_fs, target_names=target_names)"
   ]
  },
  {
   "cell_type": "code",
   "execution_count": 131,
   "metadata": {},
   "outputs": [
    {
     "name": "stdout",
     "output_type": "stream",
     "text": [
      "                     precision    recall  f1-score   support\n",
      "\n",
      "  Completed_Booking       0.87      0.93      0.90     12757\n",
      "Uncompleted_Booking       0.38      0.23      0.29      2243\n",
      "\n",
      "           accuracy                           0.83     15000\n",
      "          macro avg       0.63      0.58      0.59     15000\n",
      "       weighted avg       0.80      0.83      0.81     15000\n",
      "\n"
     ]
    }
   ],
   "source": [
    "print(report_ada_fs)"
   ]
  },
  {
   "cell_type": "markdown",
   "metadata": {},
   "source": [
    "##### Result"
   ]
  },
  {
   "cell_type": "markdown",
   "metadata": {},
   "source": [
    "Since the data is imbalanced and since resampled taking Accuracy as part of model evaluation term is not correct so taking precision recall and F1 scores in consideration, `Random Forest` model with `feature selection` performs the best. \n",
    "\n",
    "For Completed_Booking category the model prediction is having a precision of 0.88, recall of 0.91 and F1 score of 0.89.\n",
    "For Uncompleted_Booking category the model prediction is having a precision of 0.36, recall of 0.29 and F1 score of 0.32.\n",
    "Its having the best precision for Uncompleted_booking category."
   ]
  }
 ],
 "metadata": {
  "kernelspec": {
   "display_name": "Python 3 (ipykernel)",
   "language": "python",
   "name": "python3"
  },
  "language_info": {
   "codemirror_mode": {
    "name": "ipython",
    "version": 3
   },
   "file_extension": ".py",
   "mimetype": "text/x-python",
   "name": "python",
   "nbconvert_exporter": "python",
   "pygments_lexer": "ipython3",
   "version": "3.9.7"
  },
  "vscode": {
   "interpreter": {
    "hash": "4f7924c4c56b083e0e50eadfe7ef592a7a8ef70df33a0047f82280e6be1afe15"
   }
  }
 },
 "nbformat": 4,
 "nbformat_minor": 2
}
